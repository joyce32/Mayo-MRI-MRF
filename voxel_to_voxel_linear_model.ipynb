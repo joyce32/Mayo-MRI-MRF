{
 "cells": [
  {
   "cell_type": "code",
   "execution_count": 1,
   "metadata": {},
   "outputs": [
    {
     "name": "stdout",
     "output_type": "stream",
     "text": [
      "Requirement already satisfied: nibabel in /Users/tejaswirachapudi/anaconda3/lib/python3.7/site-packages (3.0.1)\n",
      "Requirement already satisfied: numpy>=1.12 in /Users/tejaswirachapudi/anaconda3/lib/python3.7/site-packages (from nibabel) (1.15.4)\n",
      "Requirement already satisfied: pydicom in /Users/tejaswirachapudi/anaconda3/lib/python3.7/site-packages (1.4.2)\n",
      "/bin/sh: /Users/tejaswirachapudi/AHIResearch/test/MRF_QC_4minutes_e9943_mr50_20200102: is a directory\n",
      "01_Explore_MRF (1).ipynb          Rotated_MRI_cube.npy\n",
      "01_Explore_MRF.ipynb              V.npy\n",
      "02_Explore_MRI (1).ipynb          X_complex.npy\n",
      "02_Explore_MRI.ipynb              \u001b[34mdata\u001b[m\u001b[m\n",
      "03_Explore_DICOM.ipynb            \u001b[34mtest\u001b[m\u001b[m\n",
      "03_train_one_epoch.ipynb          test.tar\n",
      "MRI_PCA.ipynb                     utilities_module.py\n",
      "MRI_cube.npy                      voxel_to_voxel_linear_model.ipynb\n",
      "PCA_Exploration (2).ipynb\n"
     ]
    }
   ],
   "source": [
    "# Some code below borrowed from Nahil Sobh\n",
    "\n",
    "from scipy.io import loadmat\n",
    "from sklearn import linear_model\n",
    "\n",
    "!pip install nibabel\n",
    "import nibabel as nib\n",
    "import numpy as np\n",
    "import pandas as pd\n",
    "\n",
    "import matplotlib.pyplot as plt\n",
    "\n",
    "global_link = \"/Users/tejaswirachapudi/AHIResearch/test\"\n",
    "!pip install pydicom\n",
    "!ls $(\"/Users/tejaswirachapudi/AHIResearch/test/MRF_QC_4minutes_e9943_mr50_20200102\")"
   ]
  },
  {
   "cell_type": "code",
   "execution_count": 2,
   "metadata": {},
   "outputs": [],
   "source": [
    "dictmat =  global_link + \"/MRF_QC_4minutes_e9943_mr50_20200102/dict.mat\"\n",
    "XC_file =  global_link + \"/MRF_QC_4minutes_e9943_mr50_20200102/X_complex.nii\""
   ]
  },
  {
   "cell_type": "code",
   "execution_count": 3,
   "metadata": {},
   "outputs": [],
   "source": [
    "dict = loadmat(dictmat)\n",
    "dict.keys()\n",
    "dict['dict'].dtype\n",
    "D      = dict['dict'][\"D\"]\n",
    "V      = dict['dict'][\"V\"]\n",
    "lut    = dict['dict'][\"lut\"]\n",
    "d      = dict['dict'][\"d\"]\n",
    "method = dict['dict'][\"method\"]"
   ]
  },
  {
   "cell_type": "code",
   "execution_count": 4,
   "metadata": {},
   "outputs": [
    {
     "name": "stdout",
     "output_type": "stream",
     "text": [
      "D       (47880, 533)\n",
      "V       (533, 30)\n",
      "lut     (47880, 2)\n",
      "d       (1, 1)\n",
      "method  (1, 1)\n"
     ]
    }
   ],
   "source": [
    "print(\"D      \",      D[0,0].shape )\n",
    "print(\"V      \",      V[0,0].shape ) #we need this\n",
    "print(\"lut    \",    lut[0,0].shape )\n",
    "print(\"d      \",      d[0,0].shape )\n",
    "print(\"method \", method[0,0].shape )"
   ]
  },
  {
   "cell_type": "code",
   "execution_count": 5,
   "metadata": {},
   "outputs": [],
   "source": [
    "X_complex = np.array(nib.load(XC_file).dataobj) \n",
    "v         = V[0][0][:]"
   ]
  },
  {
   "cell_type": "code",
   "execution_count": 6,
   "metadata": {},
   "outputs": [],
   "source": [
    "# size 30 MRF data\n",
    "\n",
    "m=0\n",
    "for i in range(0,256,64):\n",
    "    for j in range(0,256,64):  \n",
    "        for k in range(0,256,64):\n",
    "            x  = X_complex[i, j, k, :] # at voxel i,j,k\n",
    "#            print(x)\n",
    "            y  = np.dot(v,x)\n",
    "            \n",
    "            yr = y.real\n",
    "            yi = y.imag\n",
    "            ya = abs(y)\n",
    "            ijk= str(i) + \" \" + str(j) + \" \" + str(k)\n",
    "#            print(ijk)\n"
   ]
  },
  {
   "cell_type": "code",
   "execution_count": null,
   "metadata": {},
   "outputs": [],
   "source": []
  },
  {
   "cell_type": "markdown",
   "metadata": {},
   "source": [
    "# Linear modeling work \n",
    "\n",
    "Author: Tejaswi Rachapudi"
   ]
  },
  {
   "cell_type": "code",
   "execution_count": 4,
   "metadata": {},
   "outputs": [],
   "source": [
    "# -------------\n",
    "# Get MRI data (256,256,256,7)\n",
    "# [\"PDw_au\",\"syFLAIR\",\"syFSE\",\"syGRE\",\"syMP2RAGE\",\"T1\",\"T2\"]\n",
    "# -------------\n",
    "Rotated_MRI_cube = np.load(\"../AHIResearch/Rotated_MRI_cube.npy\")\n"
   ]
  },
  {
   "cell_type": "code",
   "execution_count": 5,
   "metadata": {},
   "outputs": [],
   "source": [
    "# -------------\n",
    "# Get MRF Compressed data (256,256,256,30)\n",
    "# Compressed MRF signal of size 30 (original length 533)\n",
    "# -------------\n",
    "X_complex = np.load(\"../AHIResearch/X_complex.npy\")"
   ]
  },
  {
   "cell_type": "code",
   "execution_count": 6,
   "metadata": {},
   "outputs": [],
   "source": [
    "# -------------\n",
    "# Get V orthogonal Matrix (533,30) for de-compression (if needed)\n",
    "# -------------\n",
    "V      = np.load(\"../AHIResearch/V.npy\")"
   ]
  },
  {
   "cell_type": "code",
   "execution_count": 7,
   "metadata": {},
   "outputs": [],
   "source": [
    "# -------------\n",
    "# Get the Amplitudes of MRI and Compressed MRF data Cubes\n",
    "# -------------\n",
    "abs_Rotated_MRI_cube = abs(Rotated_MRI_cube)\n",
    "abs_X_complex        = abs(       X_complex)"
   ]
  },
  {
   "cell_type": "code",
   "execution_count": 8,
   "metadata": {},
   "outputs": [
    {
     "name": "stdout",
     "output_type": "stream",
     "text": [
      "MRI_min  ...  3.331512453438439e-12\n",
      "MRI_max  ...  676.9999999999999\n",
      "MRI_min  ...  18.999999999999986\n",
      "MRI_max  ...  475.00000000000006\n",
      "MRI_min  ...  1.7010299175933695e-12\n",
      "MRI_max  ...  515.9999999999999\n",
      "MRI_min  ...  6.591386020763785e-13\n",
      "MRI_max  ...  461.00000000000006\n",
      "MRI_min  ...  165.99999999999994\n",
      "MRI_max  ...  751.0000000000003\n",
      "MRI_min  ...  0.0\n",
      "MRI_max  ...  3500.0000000000464\n",
      "MRI_min  ...  0.0\n",
      "MRI_max  ...  3000.0000000000455\n",
      "\n",
      "XMRF_min ...  0.0\n",
      "XMRF_max ...  0.00029269187\n"
     ]
    }
   ],
   "source": [
    "#--------------------------\n",
    "# A quick min and max over all samples\n",
    "#--------------------------\n",
    "MRI_min  = abs_Rotated_MRI_cube.min() ; MRI_max  = abs_Rotated_MRI_cube.max()\n",
    "XMRF_min =        abs_X_complex.min() ; XMRF_max =        abs_X_complex.max()\n",
    "\n",
    "z=(0, 255)\n",
    "for i in range(7):\n",
    "        dmax  = abs(Rotated_MRI_cube[:,:,z,i].max())\n",
    "        dmin  = abs(Rotated_MRI_cube[:,:,z,i].min())\n",
    "        print(\"MRI_min  ... \",  dmin )\n",
    "        print(\"MRI_max  ... \",  dmax )\n",
    "\n",
    "print()\n",
    "print(\"XMRF_min ... \", XMRF_min )\n",
    "print(\"XMRF_max ... \", XMRF_max )\n"
   ]
  },
  {
   "cell_type": "code",
   "execution_count": 9,
   "metadata": {},
   "outputs": [],
   "source": [
    "# ---------------------------------------------------------\n",
    "# Pick a set (at random with replacement) \n",
    "# of MRI (input) and Compressed_MRF (output)\n",
    "# --------------------------------------------------------\n",
    "def get_XY (sample_size):\n",
    "    \n",
    "    # -----\n",
    "    # Check if the requested size is available\n",
    "    # -----\n",
    "    if sample_size > 10**6 : # Here is the error if set can not be served\n",
    "        print(\"You used a sample size =\",sample_size )\n",
    "        print(\"This is larger than the allowed size 10^6\")\n",
    "        sys.exit(\"Terminating the job :(\")\n",
    "\n",
    "    # ----------\n",
    "    # Initialize set and while loop paramters then iterate the desired set size if found\n",
    "    # ----------\n",
    "    epsilon = 10**(-4)                   # Threshold below which a sample is not selected\n",
    "    X       = np.zeros((sample_size, 7)) #            MRI stored in this array\n",
    "    Y       = np.zeros((sample_size,30)) # Compressed MRF stored in this array\n",
    "    \n",
    "    found   = False\n",
    "    items   = 0\n",
    "    tried   = 0 \n",
    "    ijk     = []\n",
    "    \n",
    "    while not found: \n",
    "        tried +=1\n",
    "        i = np.random.randint(0,255)\n",
    "        j = np.random.randint(0,255)\n",
    "        k = np.random.randint(0,255)\n",
    "\n",
    "        absX = abs_X_complex [i,j,k,:]   # get a compressed MRF signature\n",
    "\n",
    "        if  sum(absX[1:]) > epsilon :   # There is an MRF siganl ... yay\n",
    "            Y[items] = absX\n",
    "            X[items] = abs_Rotated_MRI_cube [i,j,k,:]\n",
    "            items += 1\n",
    "            ijk.append([i,j,k])\n",
    "            \n",
    "        if  items > sample_size-1:    # Do we have enought samples to exit?\n",
    "            found = True\n",
    "\n",
    "    print( \"How many samples did we check     . . . \", tried )\n",
    "    print( \"and what was the desired set size . . . \", items )\n",
    "    \n",
    "    return (X,Y,np.array(ijk))"
   ]
  },
  {
   "cell_type": "code",
   "execution_count": 180,
   "metadata": {},
   "outputs": [
    {
     "name": "stdout",
     "output_type": "stream",
     "text": [
      "How many samples did we check     . . .  325136\n",
      "and what was the desired set size . . .  150000\n"
     ]
    }
   ],
   "source": [
    "X,Y,coord_train = get_XY(150000)"
   ]
  },
  {
   "cell_type": "code",
   "execution_count": 181,
   "metadata": {},
   "outputs": [],
   "source": [
    "from sklearn.model_selection import train_test_split\n",
    "x_train, x_test, y_train, y_test = train_test_split(X, Y, test_size = 0.2)"
   ]
  },
  {
   "cell_type": "code",
   "execution_count": 182,
   "metadata": {},
   "outputs": [
    {
     "name": "stdout",
     "output_type": "stream",
     "text": [
      "[491. 489. 506. 394. 678. 770.  37.]\n"
     ]
    }
   ],
   "source": [
    "print(x_train[0])"
   ]
  },
  {
   "cell_type": "code",
   "execution_count": 183,
   "metadata": {},
   "outputs": [
    {
     "name": "stdout",
     "output_type": "stream",
     "text": [
      "[2.76123883e-05 8.32942533e-06 9.52836308e-06 2.73371643e-06\n",
      " 1.55821976e-06 6.16343414e-06 3.20446361e-06 4.42197779e-06\n",
      " 2.98720624e-06 6.97579208e-06 9.36835204e-06 7.05887430e-07\n",
      " 5.25644646e-06 6.49693584e-06 6.78367223e-06 7.18933325e-06\n",
      " 1.63488414e-06 6.82734571e-06 4.23934534e-06 3.65232017e-06\n",
      " 4.00661929e-06 5.53077052e-06 3.81471000e-06 7.26948883e-06\n",
      " 3.09916641e-06 2.39745600e-06 2.15874070e-06 2.37308245e-06\n",
      " 7.01844783e-06 2.44520402e-06]\n"
     ]
    }
   ],
   "source": [
    "print(y_train[0])"
   ]
  },
  {
   "cell_type": "code",
   "execution_count": 184,
   "metadata": {},
   "outputs": [
    {
     "name": "stdout",
     "output_type": "stream",
     "text": [
      "[[-2.15393398e-08 -5.89416004e-10  2.12469663e-08  6.91404286e-08\n",
      "   1.04581406e-08  8.67312778e-10 -1.24825280e-09]\n",
      " [-9.94897057e-09 -1.49123015e-08  1.38693243e-08  2.54333669e-08\n",
      "   5.00006598e-09  4.42504032e-10 -8.82074280e-10]\n",
      " [ 8.68457383e-09 -8.14429392e-10 -1.93143296e-09  1.30020818e-08\n",
      "  -8.91428415e-10  1.25060558e-10  4.74019678e-10]\n",
      " [ 1.70438462e-09 -3.36694470e-09  2.08025968e-09 -2.50490575e-09\n",
      "   1.88522225e-09  1.87206171e-11  7.62288316e-11]\n",
      " [ 1.78585284e-09 -4.01719676e-10 -7.81183160e-10  1.35528617e-10\n",
      "  -1.30736033e-09  8.80577121e-11  1.84939216e-10]\n",
      " [ 1.72761355e-10 -2.36498172e-10 -6.46435634e-10 -1.06546680e-09\n",
      "  -2.54633097e-10  1.43670616e-10  5.47858544e-11]\n",
      " [ 4.10876857e-10 -8.05018793e-11 -7.26219796e-10 -9.27082625e-10\n",
      "  -4.71149177e-10  4.91033018e-11  3.81573010e-11]\n",
      " [-3.91239974e-10  1.91364379e-10 -2.78730203e-10  1.59131571e-09\n",
      "  -4.76660821e-10  9.60663439e-12 -1.21303631e-11]\n",
      " [-1.29817273e-10  4.71888005e-11 -8.16292320e-10 -1.74335159e-11\n",
      "  -5.17422239e-10  7.84921736e-11  5.19101060e-11]\n",
      " [-9.83833139e-10  2.14272938e-10 -1.68977361e-10  2.90537407e-09\n",
      "  -3.00113552e-10  2.47152702e-11 -6.19039793e-11]\n",
      " [-1.97750358e-09  5.03590589e-10 -1.99998784e-10  4.51533932e-09\n",
      "  -4.59211754e-10  1.70909699e-12 -8.15485513e-11]\n",
      " [-8.15351173e-10  3.81830990e-10 -3.80832999e-10  2.56178185e-09\n",
      "  -5.01252505e-10 -8.97731848e-13 -5.28355739e-11]\n",
      " [-2.19675940e-10  1.53878454e-10 -4.68623097e-10  4.70917452e-10\n",
      "  -3.69541249e-10  2.03967451e-11  7.66332648e-12]\n",
      " [-7.41746829e-10  4.51965505e-10 -8.30878673e-10  1.43959567e-09\n",
      "  -4.50811994e-10  2.88188641e-11 -7.50329769e-12]\n",
      " [-1.72486396e-10  1.10229206e-10 -2.42028907e-10  7.65159835e-10\n",
      "  -2.12342848e-10 -4.71819433e-12 -6.21120965e-12]\n",
      " [-4.74538065e-10  6.04117981e-11 -4.53040031e-10  1.23722061e-09\n",
      "  -4.16365409e-10 -3.79802048e-12  1.89675789e-11]\n",
      " [-9.18477355e-10  1.33409683e-10 -4.30742140e-10  2.12523900e-09\n",
      "  -4.17378481e-10  4.40258283e-11 -6.53157461e-11]\n",
      " [-8.93202145e-10  1.92709067e-10 -2.27151355e-10  1.64223592e-09\n",
      "  -1.36954109e-10 -4.04192840e-11 -3.38408046e-11]\n",
      " [-8.88960752e-10  2.18249370e-10 -2.32101031e-10  2.31436564e-09\n",
      "  -3.00335452e-10  2.63298923e-11 -4.59560710e-11]\n",
      " [-1.73611417e-10  5.38107264e-10 -1.23679730e-09  6.32639121e-10\n",
      "  -8.92964995e-10  4.98721423e-11 -1.38101048e-11]\n",
      " [-1.66702218e-09  4.46873528e-10 -8.05929600e-11  3.83235872e-09\n",
      "  -1.77983434e-10 -6.34448039e-11 -7.53108375e-11]\n",
      " [-1.58237755e-09  4.14078172e-10 -4.73917006e-10  2.87373950e-09\n",
      "  -3.14448525e-10  7.35111799e-11 -5.56184064e-11]\n",
      " [-1.46526192e-09  2.25527042e-10  3.21670568e-11  3.13829464e-09\n",
      "  -9.62705203e-13 -1.52271448e-11 -8.10137342e-11]\n",
      " [-1.10825951e-09  3.70625867e-10 -1.58548463e-10  2.74198808e-09\n",
      "  -2.26156584e-10 -4.06004069e-11 -6.21968230e-11]\n",
      " [-8.94335086e-10  4.25657682e-10 -2.55796559e-10  2.17935547e-09\n",
      "  -3.88666844e-10 -1.30568869e-11 -2.12717748e-11]\n",
      " [-1.56256779e-09  3.02876926e-10  6.77175911e-11  3.21317290e-09\n",
      "  -1.20549484e-10 -9.96027941e-12 -7.45053982e-11]\n",
      " [-5.58206878e-10  2.34182263e-10 -3.33186263e-10  1.73595154e-09\n",
      "  -4.10155725e-10  2.90409667e-11 -2.25448262e-11]\n",
      " [-1.05292300e-09  2.52951548e-10 -1.62298208e-10  2.32578562e-09\n",
      "  -2.30052436e-10 -4.21899713e-11 -4.49809774e-11]\n",
      " [-2.10249167e-09  2.96398204e-10  4.05218357e-11  3.98332714e-09\n",
      "   2.40786437e-10 -6.02375611e-11 -1.20962837e-10]\n",
      " [-9.46385411e-10  5.10149997e-10 -4.99891659e-10  2.02164509e-09\n",
      "  -4.38532718e-10 -6.56282900e-11 -4.13850698e-11]]\n"
     ]
    }
   ],
   "source": [
    "from sklearn import linear_model\n",
    "regr = linear_model.LinearRegression()\n",
    "regr.fit(x_train, y_train)\n",
    "print(regr.coef_)"
   ]
  },
  {
   "cell_type": "code",
   "execution_count": 185,
   "metadata": {},
   "outputs": [
    {
     "name": "stdout",
     "output_type": "stream",
     "text": [
      "[[6.06472590e-06 3.20468318e-06 3.50040237e-06 ... 5.02799914e-06\n",
      "  5.96096349e-06 5.14230416e-06]\n",
      " [6.10950136e-06 5.29202776e-06 3.41735263e-06 ... 4.62296699e-06\n",
      "  5.30201800e-06 4.62624168e-06]\n",
      " [1.50357033e-07 1.76441754e-06 3.07936031e-06 ... 4.73004073e-06\n",
      "  5.39254452e-06 4.83364691e-06]\n",
      " ...\n",
      " [2.82921166e-06 2.34412335e-06 2.81219125e-06 ... 4.96092457e-06\n",
      "  5.80539345e-06 5.09106293e-06]\n",
      " [2.39869775e-05 1.04543319e-05 6.23325681e-06 ... 5.69143476e-06\n",
      "  7.14165585e-06 5.72614861e-06]\n",
      " [1.05093750e-05 1.51891720e-06 3.44311782e-06 ... 5.01198626e-06\n",
      "  5.88911363e-06 5.09678254e-06]]\n"
     ]
    }
   ],
   "source": [
    "y_pred = regr.predict(x_test)\n",
    "print(y_pred)"
   ]
  },
  {
   "cell_type": "code",
   "execution_count": 186,
   "metadata": {},
   "outputs": [
    {
     "name": "stdout",
     "output_type": "stream",
     "text": [
      "[6.06472590e-06 3.20468318e-06 3.50040237e-06 3.16079533e-06\n",
      " 3.50280563e-06 4.23575251e-06 4.23243168e-06 3.70366277e-06\n",
      " 5.62854727e-06 4.14884801e-06 5.70727192e-06 4.74644837e-06\n",
      " 4.55015094e-06 5.87400015e-06 3.21576005e-06 5.29917450e-06\n",
      " 5.68807998e-06 4.89139170e-06 4.23379317e-06 6.25553485e-06\n",
      " 5.88172650e-06 5.65810904e-06 4.19287277e-06 5.03759562e-06\n",
      " 4.20393238e-06 3.95303330e-06 3.40643299e-06 5.02799914e-06\n",
      " 5.96096349e-06 5.14230416e-06]\n"
     ]
    }
   ],
   "source": [
    "print(y_pred[0])"
   ]
  },
  {
   "cell_type": "code",
   "execution_count": 187,
   "metadata": {},
   "outputs": [
    {
     "name": "stdout",
     "output_type": "stream",
     "text": [
      "[6.47396746e-06 3.83971565e-06 4.97859946e-06 6.19622142e-06\n",
      " 6.13628617e-06 7.04421609e-06 2.34496747e-06 2.27352621e-06\n",
      " 4.09070481e-06 1.85383249e-06 3.74531987e-06 8.34585933e-07\n",
      " 3.47177524e-06 1.82804331e-06 2.92291543e-06 7.77973401e-06\n",
      " 4.00029239e-06 8.27841745e-07 2.04537560e-06 4.99315820e-06\n",
      " 7.91942966e-06 9.49634250e-06 3.54845929e-06 2.67710129e-06\n",
      " 9.62356262e-06 4.04381944e-06 4.75733395e-06 1.70109365e-06\n",
      " 7.19048967e-06 5.96071777e-06]\n"
     ]
    }
   ],
   "source": [
    "print(y_test[0])"
   ]
  },
  {
   "cell_type": "code",
   "execution_count": 188,
   "metadata": {},
   "outputs": [
    {
     "name": "stdout",
     "output_type": "stream",
     "text": [
      "Mean Absolute Error: 2.2206208302433377e-06\n",
      "Mean Squared Error: 9.821965719352345e-12\n",
      "Root Mean Squared Error: 3.1340015506301755e-06\n"
     ]
    }
   ],
   "source": [
    "import sklearn\n",
    "print('Mean Absolute Error:', sklearn.metrics.mean_absolute_error(y_test, y_pred))  # absolute residual at every point, then average\n",
    "print('Mean Squared Error:', sklearn.metrics.mean_squared_error(y_test, y_pred))  # average of squared difference between actual and predicted \n",
    "print('Root Mean Squared Error:', np.sqrt(sklearn.metrics.mean_squared_error(y_test, y_pred)))"
   ]
  },
  {
   "cell_type": "code",
   "execution_count": 189,
   "metadata": {},
   "outputs": [
    {
     "data": {
      "text/plain": [
       "0.6377159149250344"
      ]
     },
     "execution_count": 189,
     "metadata": {},
     "output_type": "execute_result"
    }
   ],
   "source": [
    "regr.score(x_test, y_test)"
   ]
  },
  {
   "cell_type": "code",
   "execution_count": 190,
   "metadata": {},
   "outputs": [],
   "source": [
    "df = pd.DataFrame({'Actual': y_test[0], 'Predicted': y_pred[0]})"
   ]
  },
  {
   "cell_type": "code",
   "execution_count": 191,
   "metadata": {
    "scrolled": true
   },
   "outputs": [
    {
     "data": {
      "image/png": "[encoded data removed]",
      "text/plain": [
       "<Figure size 720x576 with 1 Axes>"
      ]
     },
     "metadata": {
      "needs_background": "light"
     },
     "output_type": "display_data"
    }
   ],
   "source": [
    "df.plot(kind='bar',figsize=(10,8))\n",
    "plt.grid(which='major', linestyle='-', linewidth='0.5', color='green')\n",
    "plt.grid(which='minor', linestyle=':', linewidth='0.5', color='black')\n",
    "plt.title('Plotting Actual vs Predicted MRF from MRI')\n",
    "plt.show()"
   ]
  },
  {
   "cell_type": "code",
   "execution_count": null,
   "metadata": {},
   "outputs": [],
   "source": []
  },
  {
   "cell_type": "markdown",
   "metadata": {},
   "source": [
    "MRF to MRI"
   ]
  },
  {
   "cell_type": "code",
   "execution_count": 192,
   "metadata": {},
   "outputs": [],
   "source": [
    "from sklearn.model_selection import train_test_split\n",
    "x_train, x_test, y_train, y_test = train_test_split(Y, X, test_size = 0.2)"
   ]
  },
  {
   "cell_type": "code",
   "execution_count": 193,
   "metadata": {},
   "outputs": [
    {
     "name": "stdout",
     "output_type": "stream",
     "text": [
      "[5.41642021e-06 3.01028990e-06 5.73057150e-06 4.42627334e-06\n",
      " 9.77327272e-06 8.67455947e-06 2.36631263e-06 2.39971769e-06\n",
      " 2.57147212e-06 1.92920470e-06 4.58105796e-06 3.48269486e-06\n",
      " 4.55107147e-06 3.54099893e-06 1.19491824e-06 4.03022887e-06\n",
      " 4.58878003e-06 2.65023482e-06 9.37559616e-06 2.55755663e-06\n",
      " 3.34764559e-06 8.69362964e-07 5.57757039e-06 9.11942607e-06\n",
      " 9.67057167e-06 1.43680472e-06 3.74035335e-06 6.41891756e-06\n",
      " 4.89031720e-07 5.36201333e-06]\n"
     ]
    }
   ],
   "source": [
    "print(x_train[0])"
   ]
  },
  {
   "cell_type": "code",
   "execution_count": 194,
   "metadata": {},
   "outputs": [
    {
     "name": "stdout",
     "output_type": "stream",
     "text": [
      "[1.18000000e+02 6.50000000e+01 1.27000000e+02 1.60000000e+01\n",
      " 1.60159691e-12 2.15000000e+03 1.90000000e+02]\n"
     ]
    }
   ],
   "source": [
    "print(y_train[0])"
   ]
  },
  {
   "cell_type": "code",
   "execution_count": 195,
   "metadata": {},
   "outputs": [
    {
     "name": "stdout",
     "output_type": "stream",
     "text": [
      "[[ 1.09585776e+07 -2.39492639e+07  2.61702565e+07  1.14838372e+07\n",
      "   1.21584036e+06 -3.20372438e+06 -7.03156772e+05 -6.55161848e+05\n",
      "  -1.86109298e+06 -5.73771918e+05 -1.55914738e+06 -3.72973450e+05\n",
      "  -1.00578702e+06 -1.83365602e+05  1.10163522e+06 -5.60392140e+05\n",
      "  -5.50383391e+05 -8.18077867e+05 -2.46705277e+05  3.68752403e+05\n",
      "  -6.80625622e+05 -6.84676617e+05 -1.03043930e+06 -4.31043275e+05\n",
      "  -1.19721444e+06 -1.65058809e+06 -8.31727862e+05 -5.88064381e+05\n",
      "  -1.17431474e+06 -1.26799934e+06]\n",
      " [ 2.56631438e+07 -5.46586435e+07  7.18137535e+06  8.09455961e+06\n",
      "  -3.62685339e+06 -2.31988288e+06 -1.32479081e+06 -8.74378415e+05\n",
      "  -1.63679797e+06 -2.01002794e+04 -1.29591763e+06 -6.47567962e+05\n",
      "  -6.68037386e+05 -9.45126517e+05  8.96654787e+05 -7.97262422e+05\n",
      "  -1.23760352e+06 -2.41755422e+05 -1.22985629e+05 -9.86249951e+05\n",
      "  -4.37570893e+05 -6.73543074e+05 -4.17602013e+05 -1.59542587e+05\n",
      "   9.18994990e+04 -1.36665853e+06 -7.71281391e+05 -2.14592037e+05\n",
      "  -9.14565578e+05 -1.04826874e+06]\n",
      " [ 2.10204017e+07 -2.18468828e+07  2.72076492e+06  2.32132063e+07\n",
      "  -5.89918872e+06 -4.13524877e+06 -3.17071759e+06 -1.43795738e+06\n",
      "  -3.28858733e+06 -1.27851753e+06 -2.28981150e+06 -1.44399119e+06\n",
      "  -1.33071345e+06 -1.74238860e+06  1.39179214e+06 -1.13318725e+06\n",
      "  -1.84160821e+06 -1.31826318e+05 -1.24055772e+06 -9.80714023e+05\n",
      "  -9.11241180e+05 -1.32500825e+06 -1.10374615e+06 -1.02817348e+06\n",
      "  -7.36882470e+05 -2.96003455e+06 -1.77827624e+06 -1.10799042e+05\n",
      "  -2.37709693e+06 -1.83189048e+06]\n",
      " [ 6.60502492e+06  8.90369252e+05  1.37860240e+07 -1.79279341e+06\n",
      "  -1.67098261e+06 -2.72546306e+06 -9.74807575e+05  1.65965742e+05\n",
      "  -1.11579941e+06  2.76882447e+05  6.39439766e+04  1.58908257e+05\n",
      "  -4.29336004e+05 -6.20251893e+04  5.39449781e+05 -2.16417513e+05\n",
      "  -1.79825104e+05 -1.58447668e+05  2.46642954e+05 -2.59143867e+05\n",
      "   2.40075728e+04 -9.80059392e+04  2.93612412e+05  1.17011248e+05\n",
      "  -2.93160288e+05 -4.66689853e+04 -3.43275836e+04  1.97266752e+05\n",
      "   8.37637600e+04 -2.80335791e+05]\n",
      " [ 1.37163263e+07 -1.66739308e+07  2.02450843e+07  3.53438929e+06\n",
      "  -3.63312780e+06 -3.33293422e+06 -1.29077825e+06 -6.80103971e+05\n",
      "  -1.48946569e+06  2.37584733e+05 -4.43836156e+05 -2.28045990e+05\n",
      "  -6.73544352e+05 -6.92481776e+04  7.63911150e+05 -4.76655479e+05\n",
      "  -3.95569492e+05 -2.60353818e+05  1.75333021e+05 -3.63400590e+05\n",
      "  -7.79423867e+04 -2.76708438e+05  8.33053238e+04  3.09911638e+04\n",
      "  -6.62070645e+05 -7.31744201e+05 -3.48341760e+05  8.13356691e+04\n",
      "  -3.11210373e+03 -7.78022489e+05]\n",
      " [-1.91525320e+07  3.91896090e+06  2.32147411e+07  5.54034988e+07\n",
      "   2.78428521e+07  2.31288809e+07  1.60817901e+06 -4.63097582e+06\n",
      "   3.36549153e+06 -3.68558580e+06 -6.61943292e+06 -5.18150106e+06\n",
      "  -1.88514209e+06 -1.32773231e+05 -2.00070766e+06 -1.34873282e+06\n",
      "   2.96172345e+06 -3.73902285e+06 -1.12139824e+06  8.47880604e+06\n",
      "  -7.49304643e+06  3.64635971e+06 -8.33775763e+06 -8.20438291e+06\n",
      "  -5.94525301e+06 -7.21899736e+06  3.02733054e+06 -6.80496100e+06\n",
      "  -9.62309434e+06 -8.10494484e+06]\n",
      " [-6.80782322e+06 -4.47592522e+06 -3.47229779e+06  6.41998202e+06\n",
      "   2.66600748e+07  3.30139843e+06 -3.72882709e+05  2.72487300e+06\n",
      "   3.38348894e+06 -4.65597735e+06  1.56629374e+06 -6.80210996e+05\n",
      "   1.72300118e+06  1.71945171e+05 -1.30860850e+06  3.54124537e+06\n",
      "  -1.76834688e+06  1.95108066e+06 -2.08056527e+06 -1.08862385e+06\n",
      "  -1.26645408e+05  1.49732981e+06 -6.85961148e+05 -1.43630510e+06\n",
      "   3.71018827e+06 -2.54028062e+05 -2.76408405e+06  8.12729972e+05\n",
      "  -1.46058775e+06  1.43993590e+06]]\n"
     ]
    }
   ],
   "source": [
    "from sklearn import linear_model\n",
    "regr = linear_model.LinearRegression()\n",
    "regr.fit(x_train, y_train)\n",
    "print(regr.coef_)"
   ]
  },
  {
   "cell_type": "code",
   "execution_count": 196,
   "metadata": {},
   "outputs": [
    {
     "name": "stdout",
     "output_type": "stream",
     "text": [
      "[[ 333.77882013  129.42451999  761.13447385 ...  553.41958307\n",
      "   749.66937505  129.80366478]\n",
      " [ 667.12271494  717.71224162  965.51773988 ...  750.8849646\n",
      "  1038.39061532  227.16080392]\n",
      " [ 249.2557172   418.85472141  594.36954468 ...  419.3669875\n",
      "   517.21471718  356.68957541]\n",
      " ...\n",
      " [  95.46881969 -102.01821769  -82.87544076 ...   21.95989712\n",
      "  1808.82710173  871.79120244]\n",
      " [ 104.58392281  -91.13978686  161.18479003 ...   51.36891319\n",
      "  1712.77060505  629.42593322]\n",
      " [ 512.49759966  737.03985344  677.22277746 ...  553.90591658\n",
      "   978.68315578  427.34525678]]\n"
     ]
    }
   ],
   "source": [
    "y_pred = regr.predict(x_test)\n",
    "print(y_pred)"
   ]
  },
  {
   "cell_type": "code",
   "execution_count": 197,
   "metadata": {},
   "outputs": [
    {
     "name": "stdout",
     "output_type": "stream",
     "text": [
      "[333.77882013 129.42451999 761.13447385 527.70342848 553.41958307\n",
      " 749.66937505 129.80366478]\n"
     ]
    }
   ],
   "source": [
    "print(y_pred[0])"
   ]
  },
  {
   "cell_type": "code",
   "execution_count": 198,
   "metadata": {},
   "outputs": [
    {
     "name": "stdout",
     "output_type": "stream",
     "text": [
      "[1.76000000e+02 5.04762507e-14 4.38000000e+02 6.30000000e+02\n",
      " 3.94000000e+02 7.00000000e+01 1.15000000e+02]\n"
     ]
    }
   ],
   "source": [
    "print(y_test[0])"
   ]
  },
  {
   "cell_type": "code",
   "execution_count": 199,
   "metadata": {},
   "outputs": [
    {
     "data": {
      "text/plain": [
       "0.20209938493977217"
      ]
     },
     "execution_count": 199,
     "metadata": {},
     "output_type": "execute_result"
    }
   ],
   "source": [
    "regr.score(x_test, y_test)"
   ]
  },
  {
   "cell_type": "code",
   "execution_count": 200,
   "metadata": {},
   "outputs": [],
   "source": [
    "df = pd.DataFrame({'Actual': y_test[0], 'Predicted': y_pred[0]})"
   ]
  },
  {
   "cell_type": "code",
   "execution_count": 201,
   "metadata": {},
   "outputs": [
    {
     "data": {
      "image/png": "[encoded data removed]",
      "text/plain": [
       "<Figure size 720x576 with 1 Axes>"
      ]
     },
     "metadata": {
      "needs_background": "light"
     },
     "output_type": "display_data"
    }
   ],
   "source": [
    "df.plot(kind='bar',figsize=(10,8))\n",
    "plt.grid(which='major', linestyle='-', linewidth='0.5', color='green')\n",
    "plt.grid(which='minor', linestyle=':', linewidth='0.5', color='black')\n",
    "plt.title('Plotting Actual vs Predicted MRI from MRF')\n",
    "plt.show()"
   ]
  },
  {
   "cell_type": "code",
   "execution_count": 105,
   "metadata": {},
   "outputs": [
    {
     "data": {
      "image/png": "[encoded data removed]",
      "text/plain": [
       "<Figure size 432x288 with 1 Axes>"
      ]
     },
     "metadata": {
      "needs_background": "light"
     },
     "output_type": "display_data"
    }
   ],
   "source": [
    "plt.plot(y_pred[0], y_test[0], color = \"green\")\n",
    "plt.title(\"MRI to MRF Predicted vs Actual\")\n",
    "plt.xlabel(\"Actual MRF\")\n",
    "plt.ylabel(\"Predicted MRF\")\n",
    "plt.show()"
   ]
  },
  {
   "cell_type": "markdown",
   "metadata": {},
   "source": [
    "Scaling Attempts"
   ]
  },
  {
   "cell_type": "code",
   "execution_count": 38,
   "metadata": {
    "scrolled": true
   },
   "outputs": [
    {
     "data": {
      "text/plain": [
       "array([ 215.090675 ,  180.7727125,  296.953425 ,  179.1716   ,\n",
       "        229.7668875, 1278.544125 ,  520.457925 ])"
      ]
     },
     "execution_count": 38,
     "metadata": {},
     "output_type": "execute_result"
    }
   ],
   "source": [
    "from sklearn.preprocessing import StandardScaler\n",
    "scalerX = StandardScaler()\n",
    "scalerX.fit(x_train)\n",
    "scalerX.mean_"
   ]
  },
  {
   "cell_type": "code",
   "execution_count": 39,
   "metadata": {},
   "outputs": [
    {
     "name": "stdout",
     "output_type": "stream",
     "text": [
      "[-0.46517661 -0.57277377 -0.70905933 -0.73500869 -0.69162969 -0.70859574\n",
      " -0.50265899]\n"
     ]
    }
   ],
   "source": [
    "trans_x_train = scalerX.transform(x_train)\n",
    "print(trans_x_train[0])"
   ]
  },
  {
   "cell_type": "code",
   "execution_count": 40,
   "metadata": {},
   "outputs": [
    {
     "data": {
      "text/plain": [
       "array([1.59075512e-05, 6.25289815e-06, 4.98723472e-06, 3.34390550e-06,\n",
       "       3.48320820e-06, 4.05897101e-06, 4.00121731e-06, 3.72633296e-06,\n",
       "       5.46669826e-06, 4.28020481e-06, 5.89894372e-06, 4.79312915e-06,\n",
       "       4.46753756e-06, 5.79431528e-06, 3.20448554e-06, 5.26504518e-06,\n",
       "       5.68175145e-06, 4.88872224e-06, 4.29928686e-06, 6.00537222e-06,\n",
       "       6.02266267e-06, 5.72956808e-06, 4.32331160e-06, 5.12161191e-06,\n",
       "       4.25147679e-06, 4.10759052e-06, 3.43874473e-06, 5.08378479e-06,\n",
       "       6.10817241e-06, 5.10320051e-06])"
      ]
     },
     "execution_count": 40,
     "metadata": {},
     "output_type": "execute_result"
    }
   ],
   "source": [
    "scalerY = StandardScaler()\n",
    "scalerY.fit(y_train)\n",
    "scalerY.mean_"
   ]
  },
  {
   "cell_type": "code",
   "execution_count": 41,
   "metadata": {},
   "outputs": [
    {
     "name": "stdout",
     "output_type": "stream",
     "text": [
      "[-0.50038274 -0.33168343 -0.81058823  1.29588988 -0.62029009 -0.27117799\n",
      "  0.3676153   2.01072149  0.00334134  0.22419189  0.07925678 -0.29091071\n",
      "  0.02395433  0.96391831 -1.09286342 -1.06184329 -0.58786248 -1.3896858\n",
      " -1.32040862 -0.42111245 -0.99741697 -0.54440301  0.01379035 -0.45885328\n",
      "  0.31595119 -1.32634667  0.64550209 -0.13217804  0.11733143  0.01112608]\n"
     ]
    }
   ],
   "source": [
    "trans_y_train = scalerY.transform(y_train)\n",
    "print(trans_y_train[0])"
   ]
  },
  {
   "cell_type": "code",
   "execution_count": 42,
   "metadata": {},
   "outputs": [
    {
     "name": "stdout",
     "output_type": "stream",
     "text": [
      "[[-7.12417507e-07  1.19623063e-06  1.39043917e-06 ...  5.01855008e-06\n",
      "   5.84773459e-06  5.20691379e-06]\n",
      " [-9.56290964e-07  1.11689483e-06  1.35201396e-06 ...  5.01340536e-06\n",
      "   5.83672182e-06  5.20320452e-06]\n",
      " [-9.33312251e-07  1.12346524e-06  1.34772425e-06 ...  5.01446672e-06\n",
      "   5.83898729e-06  5.20446506e-06]\n",
      " ...\n",
      " [-8.96882067e-07  1.14008708e-06  1.35315566e-06 ...  5.01559450e-06\n",
      "   5.84108151e-06  5.20534612e-06]\n",
      " [-9.45182838e-07  1.11975304e-06  1.35155491e-06 ...  5.01403775e-06\n",
      "   5.83795350e-06  5.20390970e-06]\n",
      " [-9.09934794e-07  1.13455005e-06  1.35110198e-06 ...  5.01548822e-06\n",
      "   5.84077568e-06  5.20532965e-06]]\n"
     ]
    }
   ],
   "source": [
    "trans_x_test = scalerX.transform(x_test)\n",
    "y_pred = regr.predict(trans_x_test)\n",
    "print(y_pred)"
   ]
  },
  {
   "cell_type": "code",
   "execution_count": 43,
   "metadata": {},
   "outputs": [],
   "source": [
    "trans_y_test = scalerY.transform(y_test)"
   ]
  },
  {
   "cell_type": "code",
   "execution_count": 44,
   "metadata": {},
   "outputs": [
    {
     "data": {
      "text/plain": [
       "-7.591320179390463e-05"
      ]
     },
     "execution_count": 44,
     "metadata": {},
     "output_type": "execute_result"
    }
   ],
   "source": [
    "regr.score(trans_x_test, trans_y_test)"
   ]
  },
  {
   "cell_type": "code",
   "execution_count": 85,
   "metadata": {},
   "outputs": [
    {
     "name": "stdout",
     "output_type": "stream",
     "text": [
      "Mean Absolute Error: 2.8326333737534058e-06\n",
      "Mean Squared Error: 3.846941105970454e-11\n",
      "Root Mean Squared Error: 6.202371406140118e-06\n"
     ]
    }
   ],
   "source": [
    "import sklearn\n",
    "print('Mean Absolute Error:', sklearn.metrics.mean_absolute_error(y_test, y_pred))  # absolute residual at every point, then average\n",
    "print('Mean Squared Error:', sklearn.metrics.mean_squared_error(y_test, y_pred))  # average of squared difference between actual and predicted \n",
    "print('Root Mean Squared Error:', np.sqrt(sklearn.metrics.mean_squared_error(y_test, y_pred)))"
   ]
  },
  {
   "cell_type": "code",
   "execution_count": null,
   "metadata": {},
   "outputs": [],
   "source": []
  },
  {
   "cell_type": "code",
   "execution_count": 53,
   "metadata": {},
   "outputs": [
    {
     "data": {
      "text/plain": [
       "MinMaxScaler(copy=True, feature_range=(0, 1))"
      ]
     },
     "execution_count": 53,
     "metadata": {},
     "output_type": "execute_result"
    }
   ],
   "source": [
    "from sklearn.preprocessing import MinMaxScaler\n",
    "scalerX = MinMaxScaler()\n",
    "scalerX.fit(x_train)"
   ]
  },
  {
   "cell_type": "code",
   "execution_count": 54,
   "metadata": {},
   "outputs": [
    {
     "name": "stdout",
     "output_type": "stream",
     "text": [
      "[2.91725105e-02 6.05504131e-17 2.86536507e-16 6.80713128e-03\n",
      " 8.69304556e-03 1.17142857e-01 3.33333333e-03]\n"
     ]
    }
   ],
   "source": [
    "trans_x_train = scalerX.transform(x_train)\n",
    "print(trans_x_train[0])"
   ]
  },
  {
   "cell_type": "code",
   "execution_count": 55,
   "metadata": {},
   "outputs": [
    {
     "data": {
      "text/plain": [
       "MinMaxScaler(copy=True, feature_range=(0, 1))"
      ]
     },
     "execution_count": 55,
     "metadata": {},
     "output_type": "execute_result"
    }
   ],
   "source": [
    "scalerY = MinMaxScaler()\n",
    "scalerY.fit(y_train)"
   ]
  },
  {
   "cell_type": "code",
   "execution_count": 56,
   "metadata": {},
   "outputs": [
    {
     "name": "stdout",
     "output_type": "stream",
     "text": [
      "[0.02166196 0.04396473 0.02960554 0.26606364 0.13201964 0.13388434\n",
      " 0.23342453 0.37698286 0.19879688 0.21265275 0.18520892 0.15328225\n",
      " 0.19513297 0.29159885 0.07515531 0.06212718 0.13698123 0.02731353\n",
      " 0.03602607 0.13706837 0.05659217 0.11297733 0.13559595 0.12539315\n",
      " 0.21205485 0.03031581 0.24167685 0.1680609  0.16971969 0.1733527 ]\n"
     ]
    }
   ],
   "source": [
    "trans_y_train = scalerY.transform(y_train)\n",
    "print(trans_y_train[0])"
   ]
  },
  {
   "cell_type": "code",
   "execution_count": 57,
   "metadata": {},
   "outputs": [
    {
     "name": "stdout",
     "output_type": "stream",
     "text": [
      "[[-8.68896346e-07  1.14389642e-06  1.36311572e-06 ...  5.01537480e-06\n",
      "   5.84093927e-06  5.20477785e-06]\n",
      " [-8.87211136e-07  1.13773102e-06  1.36069835e-06 ...  5.01503060e-06\n",
      "   5.84013501e-06  5.20452116e-06]\n",
      " [-8.87235497e-07  1.13715938e-06  1.36070337e-06 ...  5.01506823e-06\n",
      "   5.84021080e-06  5.20459682e-06]\n",
      " ...\n",
      " [-8.84677900e-07  1.13836038e-06  1.36106844e-06 ...  5.01514641e-06\n",
      "   5.84035854e-06  5.20465926e-06]\n",
      " [-8.86989825e-07  1.13763073e-06  1.36062315e-06 ...  5.01508473e-06\n",
      "   5.84023443e-06  5.20459724e-06]\n",
      " [-8.84822495e-07  1.13852370e-06  1.36057952e-06 ...  5.01518928e-06\n",
      "   5.84043469e-06  5.20470779e-06]]\n"
     ]
    }
   ],
   "source": [
    "trans_x_test = scalerX.transform(x_test)\n",
    "y_pred = regr.predict(trans_x_test)\n",
    "print(y_pred)"
   ]
  },
  {
   "cell_type": "code",
   "execution_count": 58,
   "metadata": {},
   "outputs": [],
   "source": [
    "trans_y_test = scalerY.transform(y_test)"
   ]
  },
  {
   "cell_type": "code",
   "execution_count": 59,
   "metadata": {},
   "outputs": [
    {
     "data": {
      "text/plain": [
       "-2.6959680670514645"
      ]
     },
     "execution_count": 59,
     "metadata": {},
     "output_type": "execute_result"
    }
   ],
   "source": [
    "regr.score(trans_x_test, trans_y_test)"
   ]
  },
  {
   "cell_type": "code",
   "execution_count": null,
   "metadata": {},
   "outputs": [],
   "source": []
  }
 ],
 "metadata": {
  "kernelspec": {
   "display_name": "Python 3",
   "language": "python",
   "name": "python3"
  },
  "language_info": {
   "codemirror_mode": {
    "name": "ipython",
    "version": 3
   },
   "file_extension": ".py",
   "mimetype": "text/x-python",
   "name": "python",
   "nbconvert_exporter": "python",
   "pygments_lexer": "ipython3",
   "version": "3.7.1"
  }
 },
 "nbformat": 4,
 "nbformat_minor": 2
}
