{
 "cells": [
  {
   "cell_type": "code",
   "execution_count": 1,
   "metadata": {},
   "outputs": [],
   "source": [
    "import numpy as np\n",
    "import pandas as pd\n",
    "import matplotlib.pyplot as plt\n",
    "from sklearn.decomposition import PCA\n",
    "from ipywidgets import interact, interactive, fixed, interact_manual\n",
    "import ipywidgets as widgets"
   ]
  },
  {
   "cell_type": "code",
   "execution_count": 2,
   "metadata": {},
   "outputs": [],
   "source": [
    "# -------------\n",
    "# Get MRI data (256,256,256,7)\n",
    "# [\"PDw_au\",\"syFLAIR\",\"syFSE\",\"syGRE\",\"syMP2RAGE\",\"T1\",\"T2\"]\n",
    "# -------------\n",
    "MRI = np.load(\"../AHIResearch/Rotated_MRI_cube.npy\")"
   ]
  },
  {
   "cell_type": "code",
   "execution_count": 3,
   "metadata": {},
   "outputs": [
    {
     "data": {
      "text/plain": [
       "(256, 256, 256, 7)"
      ]
     },
     "execution_count": 3,
     "metadata": {},
     "output_type": "execute_result"
    }
   ],
   "source": [
    "MRI.shape"
   ]
  },
  {
   "cell_type": "code",
   "execution_count": 4,
   "metadata": {},
   "outputs": [
    {
     "data": {
      "text/plain": [
       "(458752,)"
      ]
     },
     "execution_count": 4,
     "metadata": {},
     "output_type": "execute_result"
    }
   ],
   "source": [
    "# single slice calculation \n",
    "slice_0 = MRI[:,:,0,:]\n",
    "n0,n1,n2 = slice_0.shape\n",
    "slice_0 = np.reshape(slice_0, (n0*n1*n2))\n",
    "slice_0.shape"
   ]
  },
  {
   "cell_type": "code",
   "execution_count": 5,
   "metadata": {},
   "outputs": [
    {
     "data": {
      "text/plain": [
       "256"
      ]
     },
     "execution_count": 5,
     "metadata": {},
     "output_type": "execute_result"
    }
   ],
   "source": [
    "# 256 slices each of size 458752, appended into a list\n",
    "X = []\n",
    "for z in range(256):\n",
    "    slice_z = MRI[:, :, z, :]\n",
    "    n0,n1,n2 = slice_z.shape\n",
    "    slice_z = np.reshape(slice_z, (n0*n1*n2))\n",
    "    X.append(slice_z)\n",
    "len(X)"
   ]
  },
  {
   "cell_type": "code",
   "execution_count": 6,
   "metadata": {},
   "outputs": [
    {
     "data": {
      "text/plain": [
       "(256, 458752)"
      ]
     },
     "execution_count": 6,
     "metadata": {},
     "output_type": "execute_result"
    }
   ],
   "source": [
    "# convert list to array shape (256, 458752)\n",
    "X = np.asarray(X)\n",
    "X.shape"
   ]
  },
  {
   "cell_type": "markdown",
   "metadata": {},
   "source": [
    "2 Component Analysis"
   ]
  },
  {
   "cell_type": "code",
   "execution_count": 7,
   "metadata": {},
   "outputs": [],
   "source": [
    "pca = PCA(n_components=2)"
   ]
  },
  {
   "cell_type": "code",
   "execution_count": 8,
   "metadata": {},
   "outputs": [],
   "source": [
    "pX = pca.fit_transform(X)"
   ]
  },
  {
   "cell_type": "code",
   "execution_count": 9,
   "metadata": {},
   "outputs": [
    {
     "name": "stdout",
     "output_type": "stream",
     "text": [
      "Original shape:  (256, 458752)\n",
      "Transformed shape:  (256, 2)\n"
     ]
    }
   ],
   "source": [
    "print(\"Original shape: \", X.shape)\n",
    "print(\"Transformed shape: \", pX.shape)"
   ]
  },
  {
   "cell_type": "code",
   "execution_count": 10,
   "metadata": {},
   "outputs": [
    {
     "data": {
      "text/html": [
       "<div>\n",
       "<style scoped>\n",
       "    .dataframe tbody tr th:only-of-type {\n",
       "        vertical-align: middle;\n",
       "    }\n",
       "\n",
       "    .dataframe tbody tr th {\n",
       "        vertical-align: top;\n",
       "    }\n",
       "\n",
       "    .dataframe thead th {\n",
       "        text-align: right;\n",
       "    }\n",
       "</style>\n",
       "<table border=\"1\" class=\"dataframe\">\n",
       "  <thead>\n",
       "    <tr style=\"text-align: right;\">\n",
       "      <th></th>\n",
       "      <th>Component 1</th>\n",
       "      <th>Component 2</th>\n",
       "    </tr>\n",
       "  </thead>\n",
       "  <tbody>\n",
       "    <tr>\n",
       "      <th>0</th>\n",
       "      <td>154758.005885</td>\n",
       "      <td>24725.546563</td>\n",
       "    </tr>\n",
       "    <tr>\n",
       "      <th>1</th>\n",
       "      <td>143228.383964</td>\n",
       "      <td>21893.198605</td>\n",
       "    </tr>\n",
       "    <tr>\n",
       "      <th>2</th>\n",
       "      <td>139746.082557</td>\n",
       "      <td>27700.623985</td>\n",
       "    </tr>\n",
       "    <tr>\n",
       "      <th>3</th>\n",
       "      <td>137775.000684</td>\n",
       "      <td>40774.720078</td>\n",
       "    </tr>\n",
       "    <tr>\n",
       "      <th>4</th>\n",
       "      <td>131886.308542</td>\n",
       "      <td>50020.162897</td>\n",
       "    </tr>\n",
       "    <tr>\n",
       "      <th>5</th>\n",
       "      <td>123492.339552</td>\n",
       "      <td>58280.803451</td>\n",
       "    </tr>\n",
       "    <tr>\n",
       "      <th>6</th>\n",
       "      <td>113975.221187</td>\n",
       "      <td>64580.225405</td>\n",
       "    </tr>\n",
       "    <tr>\n",
       "      <th>7</th>\n",
       "      <td>106195.225604</td>\n",
       "      <td>69148.984787</td>\n",
       "    </tr>\n",
       "    <tr>\n",
       "      <th>8</th>\n",
       "      <td>101582.324840</td>\n",
       "      <td>72477.859342</td>\n",
       "    </tr>\n",
       "    <tr>\n",
       "      <th>9</th>\n",
       "      <td>100438.910080</td>\n",
       "      <td>76743.935727</td>\n",
       "    </tr>\n",
       "    <tr>\n",
       "      <th>10</th>\n",
       "      <td>97921.457492</td>\n",
       "      <td>76004.351574</td>\n",
       "    </tr>\n",
       "    <tr>\n",
       "      <th>11</th>\n",
       "      <td>96049.041440</td>\n",
       "      <td>75700.307200</td>\n",
       "    </tr>\n",
       "    <tr>\n",
       "      <th>12</th>\n",
       "      <td>93307.879443</td>\n",
       "      <td>78344.867323</td>\n",
       "    </tr>\n",
       "    <tr>\n",
       "      <th>13</th>\n",
       "      <td>88763.036471</td>\n",
       "      <td>81353.237959</td>\n",
       "    </tr>\n",
       "    <tr>\n",
       "      <th>14</th>\n",
       "      <td>84656.026921</td>\n",
       "      <td>83475.410874</td>\n",
       "    </tr>\n",
       "    <tr>\n",
       "      <th>15</th>\n",
       "      <td>81087.677776</td>\n",
       "      <td>84178.588979</td>\n",
       "    </tr>\n",
       "    <tr>\n",
       "      <th>16</th>\n",
       "      <td>76703.727342</td>\n",
       "      <td>84334.996101</td>\n",
       "    </tr>\n",
       "    <tr>\n",
       "      <th>17</th>\n",
       "      <td>74723.947179</td>\n",
       "      <td>87013.176029</td>\n",
       "    </tr>\n",
       "    <tr>\n",
       "      <th>18</th>\n",
       "      <td>69620.609716</td>\n",
       "      <td>88677.681877</td>\n",
       "    </tr>\n",
       "    <tr>\n",
       "      <th>19</th>\n",
       "      <td>65478.756638</td>\n",
       "      <td>87933.241661</td>\n",
       "    </tr>\n",
       "    <tr>\n",
       "      <th>20</th>\n",
       "      <td>61533.716495</td>\n",
       "      <td>88270.480585</td>\n",
       "    </tr>\n",
       "    <tr>\n",
       "      <th>21</th>\n",
       "      <td>56827.095125</td>\n",
       "      <td>90761.841105</td>\n",
       "    </tr>\n",
       "    <tr>\n",
       "      <th>22</th>\n",
       "      <td>53304.159214</td>\n",
       "      <td>92789.886448</td>\n",
       "    </tr>\n",
       "    <tr>\n",
       "      <th>23</th>\n",
       "      <td>50731.814430</td>\n",
       "      <td>92234.962446</td>\n",
       "    </tr>\n",
       "    <tr>\n",
       "      <th>24</th>\n",
       "      <td>47487.680499</td>\n",
       "      <td>94768.445496</td>\n",
       "    </tr>\n",
       "    <tr>\n",
       "      <th>25</th>\n",
       "      <td>45585.620880</td>\n",
       "      <td>95737.170504</td>\n",
       "    </tr>\n",
       "    <tr>\n",
       "      <th>26</th>\n",
       "      <td>43106.967335</td>\n",
       "      <td>96686.236061</td>\n",
       "    </tr>\n",
       "    <tr>\n",
       "      <th>27</th>\n",
       "      <td>39438.775027</td>\n",
       "      <td>100526.065947</td>\n",
       "    </tr>\n",
       "    <tr>\n",
       "      <th>28</th>\n",
       "      <td>34901.545807</td>\n",
       "      <td>99927.420707</td>\n",
       "    </tr>\n",
       "    <tr>\n",
       "      <th>29</th>\n",
       "      <td>30699.767330</td>\n",
       "      <td>99224.947514</td>\n",
       "    </tr>\n",
       "    <tr>\n",
       "      <th>...</th>\n",
       "      <td>...</td>\n",
       "      <td>...</td>\n",
       "    </tr>\n",
       "    <tr>\n",
       "      <th>226</th>\n",
       "      <td>195521.719963</td>\n",
       "      <td>-78490.511421</td>\n",
       "    </tr>\n",
       "    <tr>\n",
       "      <th>227</th>\n",
       "      <td>193295.323784</td>\n",
       "      <td>-78510.988663</td>\n",
       "    </tr>\n",
       "    <tr>\n",
       "      <th>228</th>\n",
       "      <td>194577.589793</td>\n",
       "      <td>-78677.013557</td>\n",
       "    </tr>\n",
       "    <tr>\n",
       "      <th>229</th>\n",
       "      <td>193859.444658</td>\n",
       "      <td>-83284.835199</td>\n",
       "    </tr>\n",
       "    <tr>\n",
       "      <th>230</th>\n",
       "      <td>195220.468940</td>\n",
       "      <td>-83952.686447</td>\n",
       "    </tr>\n",
       "    <tr>\n",
       "      <th>231</th>\n",
       "      <td>194230.178793</td>\n",
       "      <td>-84248.917198</td>\n",
       "    </tr>\n",
       "    <tr>\n",
       "      <th>232</th>\n",
       "      <td>193849.469717</td>\n",
       "      <td>-79520.537001</td>\n",
       "    </tr>\n",
       "    <tr>\n",
       "      <th>233</th>\n",
       "      <td>194824.938582</td>\n",
       "      <td>-83490.885845</td>\n",
       "    </tr>\n",
       "    <tr>\n",
       "      <th>234</th>\n",
       "      <td>194546.076507</td>\n",
       "      <td>-86844.959422</td>\n",
       "    </tr>\n",
       "    <tr>\n",
       "      <th>235</th>\n",
       "      <td>194775.670239</td>\n",
       "      <td>-87712.106787</td>\n",
       "    </tr>\n",
       "    <tr>\n",
       "      <th>236</th>\n",
       "      <td>192586.340664</td>\n",
       "      <td>-82265.295211</td>\n",
       "    </tr>\n",
       "    <tr>\n",
       "      <th>237</th>\n",
       "      <td>193136.780044</td>\n",
       "      <td>-80856.323412</td>\n",
       "    </tr>\n",
       "    <tr>\n",
       "      <th>238</th>\n",
       "      <td>194036.910675</td>\n",
       "      <td>-85052.497338</td>\n",
       "    </tr>\n",
       "    <tr>\n",
       "      <th>239</th>\n",
       "      <td>194307.108850</td>\n",
       "      <td>-83546.954696</td>\n",
       "    </tr>\n",
       "    <tr>\n",
       "      <th>240</th>\n",
       "      <td>194618.540989</td>\n",
       "      <td>-81358.326259</td>\n",
       "    </tr>\n",
       "    <tr>\n",
       "      <th>241</th>\n",
       "      <td>193803.710469</td>\n",
       "      <td>-82118.774562</td>\n",
       "    </tr>\n",
       "    <tr>\n",
       "      <th>242</th>\n",
       "      <td>194656.947348</td>\n",
       "      <td>-79304.069835</td>\n",
       "    </tr>\n",
       "    <tr>\n",
       "      <th>243</th>\n",
       "      <td>193606.159263</td>\n",
       "      <td>-77748.655267</td>\n",
       "    </tr>\n",
       "    <tr>\n",
       "      <th>244</th>\n",
       "      <td>192418.746651</td>\n",
       "      <td>-74705.980766</td>\n",
       "    </tr>\n",
       "    <tr>\n",
       "      <th>245</th>\n",
       "      <td>193065.355920</td>\n",
       "      <td>-76444.227101</td>\n",
       "    </tr>\n",
       "    <tr>\n",
       "      <th>246</th>\n",
       "      <td>191671.576197</td>\n",
       "      <td>-76066.580608</td>\n",
       "    </tr>\n",
       "    <tr>\n",
       "      <th>247</th>\n",
       "      <td>194201.760674</td>\n",
       "      <td>-74916.738901</td>\n",
       "    </tr>\n",
       "    <tr>\n",
       "      <th>248</th>\n",
       "      <td>194595.959078</td>\n",
       "      <td>-74626.248654</td>\n",
       "    </tr>\n",
       "    <tr>\n",
       "      <th>249</th>\n",
       "      <td>199911.360910</td>\n",
       "      <td>-78589.845403</td>\n",
       "    </tr>\n",
       "    <tr>\n",
       "      <th>250</th>\n",
       "      <td>202588.568929</td>\n",
       "      <td>-78084.592364</td>\n",
       "    </tr>\n",
       "    <tr>\n",
       "      <th>251</th>\n",
       "      <td>207873.127495</td>\n",
       "      <td>-81994.733601</td>\n",
       "    </tr>\n",
       "    <tr>\n",
       "      <th>252</th>\n",
       "      <td>209361.291473</td>\n",
       "      <td>-85895.884160</td>\n",
       "    </tr>\n",
       "    <tr>\n",
       "      <th>253</th>\n",
       "      <td>212489.025109</td>\n",
       "      <td>-87797.679629</td>\n",
       "    </tr>\n",
       "    <tr>\n",
       "      <th>254</th>\n",
       "      <td>213215.378894</td>\n",
       "      <td>-81382.017471</td>\n",
       "    </tr>\n",
       "    <tr>\n",
       "      <th>255</th>\n",
       "      <td>139812.092913</td>\n",
       "      <td>67815.931824</td>\n",
       "    </tr>\n",
       "  </tbody>\n",
       "</table>\n",
       "<p>256 rows × 2 columns</p>\n",
       "</div>"
      ],
      "text/plain": [
       "       Component 1    Component 2\n",
       "0    154758.005885   24725.546563\n",
       "1    143228.383964   21893.198605\n",
       "2    139746.082557   27700.623985\n",
       "3    137775.000684   40774.720078\n",
       "4    131886.308542   50020.162897\n",
       "5    123492.339552   58280.803451\n",
       "6    113975.221187   64580.225405\n",
       "7    106195.225604   69148.984787\n",
       "8    101582.324840   72477.859342\n",
       "9    100438.910080   76743.935727\n",
       "10    97921.457492   76004.351574\n",
       "11    96049.041440   75700.307200\n",
       "12    93307.879443   78344.867323\n",
       "13    88763.036471   81353.237959\n",
       "14    84656.026921   83475.410874\n",
       "15    81087.677776   84178.588979\n",
       "16    76703.727342   84334.996101\n",
       "17    74723.947179   87013.176029\n",
       "18    69620.609716   88677.681877\n",
       "19    65478.756638   87933.241661\n",
       "20    61533.716495   88270.480585\n",
       "21    56827.095125   90761.841105\n",
       "22    53304.159214   92789.886448\n",
       "23    50731.814430   92234.962446\n",
       "24    47487.680499   94768.445496\n",
       "25    45585.620880   95737.170504\n",
       "26    43106.967335   96686.236061\n",
       "27    39438.775027  100526.065947\n",
       "28    34901.545807   99927.420707\n",
       "29    30699.767330   99224.947514\n",
       "..             ...            ...\n",
       "226  195521.719963  -78490.511421\n",
       "227  193295.323784  -78510.988663\n",
       "228  194577.589793  -78677.013557\n",
       "229  193859.444658  -83284.835199\n",
       "230  195220.468940  -83952.686447\n",
       "231  194230.178793  -84248.917198\n",
       "232  193849.469717  -79520.537001\n",
       "233  194824.938582  -83490.885845\n",
       "234  194546.076507  -86844.959422\n",
       "235  194775.670239  -87712.106787\n",
       "236  192586.340664  -82265.295211\n",
       "237  193136.780044  -80856.323412\n",
       "238  194036.910675  -85052.497338\n",
       "239  194307.108850  -83546.954696\n",
       "240  194618.540989  -81358.326259\n",
       "241  193803.710469  -82118.774562\n",
       "242  194656.947348  -79304.069835\n",
       "243  193606.159263  -77748.655267\n",
       "244  192418.746651  -74705.980766\n",
       "245  193065.355920  -76444.227101\n",
       "246  191671.576197  -76066.580608\n",
       "247  194201.760674  -74916.738901\n",
       "248  194595.959078  -74626.248654\n",
       "249  199911.360910  -78589.845403\n",
       "250  202588.568929  -78084.592364\n",
       "251  207873.127495  -81994.733601\n",
       "252  209361.291473  -85895.884160\n",
       "253  212489.025109  -87797.679629\n",
       "254  213215.378894  -81382.017471\n",
       "255  139812.092913   67815.931824\n",
       "\n",
       "[256 rows x 2 columns]"
      ]
     },
     "execution_count": 10,
     "metadata": {},
     "output_type": "execute_result"
    }
   ],
   "source": [
    "df_pca = pd.DataFrame(pX, columns = ['Component 1', 'Component 2'])\n",
    "df_pca"
   ]
  },
  {
   "cell_type": "code",
   "execution_count": 11,
   "metadata": {},
   "outputs": [
    {
     "data": {
      "text/plain": [
       "Text(0, 0.5, 'Component 2')"
      ]
     },
     "execution_count": 11,
     "metadata": {},
     "output_type": "execute_result"
    },
    {
     "data": {
      "image/png": "[encoded data removed]",
      "text/plain": [
       "<Figure size 864x288 with 1 Axes>"
      ]
     },
     "metadata": {
      "needs_background": "light"
     },
     "output_type": "display_data"
    }
   ],
   "source": [
    "plt.figure(figsize=(12,4))\n",
    "\n",
    "plt.subplot(1,3,1)\n",
    "plt.scatter(pX[:, 0], pX[:, 1], alpha=0.5)\n",
    "plt.title(\"2 Component PCA\") \n",
    "plt.grid()\n",
    "plt.xlabel ('Component 1') \n",
    "plt.ylabel ('Component 2')"
   ]
  },
  {
   "cell_type": "code",
   "execution_count": 12,
   "metadata": {},
   "outputs": [
    {
     "name": "stdout",
     "output_type": "stream",
     "text": [
      "0.11238561753736749\n"
     ]
    }
   ],
   "source": [
    "# Only retains 11.2% variance with 2 components\n",
    "print(np.sum(pca.explained_variance_ratio_))"
   ]
  },
  {
   "cell_type": "code",
   "execution_count": 13,
   "metadata": {},
   "outputs": [
    {
     "data": {
      "text/plain": [
       "(256, 256, 256, 7)"
      ]
     },
     "execution_count": 13,
     "metadata": {},
     "output_type": "execute_result"
    }
   ],
   "source": [
    "pca_inv = pca.inverse_transform(pX)\n",
    "X_trans = np.reshape(pca_inv,(256, 256, 256, 7))\n",
    "X_trans.shape"
   ]
  },
  {
   "cell_type": "code",
   "execution_count": 14,
   "metadata": {},
   "outputs": [
    {
     "data": {
      "application/vnd.jupyter.widget-view+json": {
       "model_id": "3f6e4a887e66446db2b614aaee54d015",
       "version_major": 2,
       "version_minor": 0
      },
      "text/plain": [
       "interactive(children=(IntSlider(value=127, description='z', max=255), Output()), _dom_classes=('widget-interac…"
      ]
     },
     "metadata": {},
     "output_type": "display_data"
    },
    {
     "data": {
      "text/plain": [
       "<function __main__.display_slice(z)>"
      ]
     },
     "execution_count": 14,
     "metadata": {},
     "output_type": "execute_result"
    }
   ],
   "source": [
    "# side by side comparison of original images and reconstructed\n",
    "def display_slice(z):\n",
    "    \n",
    "    #original\n",
    "    plt.figure(figsize=(16,12))\n",
    "    for i in range(7):\n",
    "        plt.subplot(3,4,i+1)\n",
    "        image = abs(MRI[:,:,z,i])\n",
    "        plt.imshow(image,cmap=\"gray\")\n",
    "        plt.axis('off')\n",
    "    plt.tight_layout()  \n",
    "    plt.suptitle('Original', y=1, size=20)\n",
    "    \n",
    "    #reconstruct images using reduced dataset\n",
    "    plt.figure(figsize=(16,12))\n",
    "    for i in range(7):\n",
    "        plt.subplot(3,4,i+1)        \n",
    "        image = abs(X_trans[:,:,z,i])\n",
    "        plt.imshow(image,cmap=\"gray\")\n",
    "        plt.axis('off')\n",
    "    plt.tight_layout()\n",
    "    plt.suptitle('Reconstructed', y=1, size=20)\n",
    "    \n",
    "   \n",
    "interact(display_slice, z=(0, 255))"
   ]
  },
  {
   "cell_type": "markdown",
   "metadata": {},
   "source": [
    "Testing 4 Component Analysis"
   ]
  },
  {
   "cell_type": "code",
   "execution_count": 15,
   "metadata": {},
   "outputs": [],
   "source": [
    "pca4 = PCA(n_components=4)"
   ]
  },
  {
   "cell_type": "code",
   "execution_count": 16,
   "metadata": {},
   "outputs": [],
   "source": [
    "p4X = pca4.fit_transform(X)"
   ]
  },
  {
   "cell_type": "code",
   "execution_count": 17,
   "metadata": {},
   "outputs": [
    {
     "name": "stdout",
     "output_type": "stream",
     "text": [
      "Original shape:  (256, 458752)\n",
      "Transformed shape:  (256, 4)\n"
     ]
    }
   ],
   "source": [
    "print(\"Original shape: \", X.shape)\n",
    "print(\"Transformed shape: \", p4X.shape)"
   ]
  },
  {
   "cell_type": "code",
   "execution_count": 18,
   "metadata": {},
   "outputs": [
    {
     "data": {
      "text/html": [
       "<div>\n",
       "<style scoped>\n",
       "    .dataframe tbody tr th:only-of-type {\n",
       "        vertical-align: middle;\n",
       "    }\n",
       "\n",
       "    .dataframe tbody tr th {\n",
       "        vertical-align: top;\n",
       "    }\n",
       "\n",
       "    .dataframe thead th {\n",
       "        text-align: right;\n",
       "    }\n",
       "</style>\n",
       "<table border=\"1\" class=\"dataframe\">\n",
       "  <thead>\n",
       "    <tr style=\"text-align: right;\">\n",
       "      <th></th>\n",
       "      <th>Component 1</th>\n",
       "      <th>Component 2</th>\n",
       "      <th>Component 3</th>\n",
       "      <th>Component 4</th>\n",
       "    </tr>\n",
       "  </thead>\n",
       "  <tbody>\n",
       "    <tr>\n",
       "      <th>0</th>\n",
       "      <td>154758.005485</td>\n",
       "      <td>24727.956730</td>\n",
       "      <td>21791.880757</td>\n",
       "      <td>117533.007277</td>\n",
       "    </tr>\n",
       "    <tr>\n",
       "      <th>1</th>\n",
       "      <td>143228.383639</td>\n",
       "      <td>21895.521493</td>\n",
       "      <td>27426.305944</td>\n",
       "      <td>124128.401045</td>\n",
       "    </tr>\n",
       "    <tr>\n",
       "      <th>2</th>\n",
       "      <td>139746.082280</td>\n",
       "      <td>27702.072123</td>\n",
       "      <td>29165.159895</td>\n",
       "      <td>118841.917826</td>\n",
       "    </tr>\n",
       "    <tr>\n",
       "      <th>3</th>\n",
       "      <td>137775.000681</td>\n",
       "      <td>40775.078620</td>\n",
       "      <td>33577.177790</td>\n",
       "      <td>106256.394655</td>\n",
       "    </tr>\n",
       "    <tr>\n",
       "      <th>4</th>\n",
       "      <td>131886.308864</td>\n",
       "      <td>50018.421948</td>\n",
       "      <td>36822.898844</td>\n",
       "      <td>98673.724586</td>\n",
       "    </tr>\n",
       "    <tr>\n",
       "      <th>5</th>\n",
       "      <td>123492.340049</td>\n",
       "      <td>58278.726711</td>\n",
       "      <td>40024.568605</td>\n",
       "      <td>92117.156935</td>\n",
       "    </tr>\n",
       "    <tr>\n",
       "      <th>6</th>\n",
       "      <td>113975.221896</td>\n",
       "      <td>64577.122677</td>\n",
       "      <td>40137.299281</td>\n",
       "      <td>84965.123678</td>\n",
       "    </tr>\n",
       "    <tr>\n",
       "      <th>7</th>\n",
       "      <td>106195.226458</td>\n",
       "      <td>69144.903044</td>\n",
       "      <td>35905.515609</td>\n",
       "      <td>78494.414933</td>\n",
       "    </tr>\n",
       "    <tr>\n",
       "      <th>8</th>\n",
       "      <td>101582.325859</td>\n",
       "      <td>72473.773224</td>\n",
       "      <td>33617.795908</td>\n",
       "      <td>75308.947669</td>\n",
       "    </tr>\n",
       "    <tr>\n",
       "      <th>9</th>\n",
       "      <td>100438.911154</td>\n",
       "      <td>76738.834506</td>\n",
       "      <td>33332.500234</td>\n",
       "      <td>74245.281985</td>\n",
       "    </tr>\n",
       "    <tr>\n",
       "      <th>10</th>\n",
       "      <td>97921.458648</td>\n",
       "      <td>75997.782806</td>\n",
       "      <td>30459.775181</td>\n",
       "      <td>76562.905490</td>\n",
       "    </tr>\n",
       "    <tr>\n",
       "      <th>11</th>\n",
       "      <td>96049.042612</td>\n",
       "      <td>75692.293326</td>\n",
       "      <td>29186.563063</td>\n",
       "      <td>74316.410364</td>\n",
       "    </tr>\n",
       "    <tr>\n",
       "      <th>12</th>\n",
       "      <td>93307.880601</td>\n",
       "      <td>78336.370905</td>\n",
       "      <td>28486.232933</td>\n",
       "      <td>74701.298018</td>\n",
       "    </tr>\n",
       "    <tr>\n",
       "      <th>13</th>\n",
       "      <td>88763.037566</td>\n",
       "      <td>81344.784845</td>\n",
       "      <td>27389.970147</td>\n",
       "      <td>75103.802147</td>\n",
       "    </tr>\n",
       "    <tr>\n",
       "      <th>14</th>\n",
       "      <td>84656.027910</td>\n",
       "      <td>83466.553872</td>\n",
       "      <td>26360.885409</td>\n",
       "      <td>75518.679694</td>\n",
       "    </tr>\n",
       "    <tr>\n",
       "      <th>15</th>\n",
       "      <td>81087.678722</td>\n",
       "      <td>84169.795423</td>\n",
       "      <td>24960.365920</td>\n",
       "      <td>74844.795965</td>\n",
       "    </tr>\n",
       "    <tr>\n",
       "      <th>16</th>\n",
       "      <td>76703.728296</td>\n",
       "      <td>84327.357190</td>\n",
       "      <td>23782.466203</td>\n",
       "      <td>73457.772304</td>\n",
       "    </tr>\n",
       "    <tr>\n",
       "      <th>17</th>\n",
       "      <td>74723.948119</td>\n",
       "      <td>87005.944971</td>\n",
       "      <td>22445.582833</td>\n",
       "      <td>75078.996438</td>\n",
       "    </tr>\n",
       "    <tr>\n",
       "      <th>18</th>\n",
       "      <td>69620.610657</td>\n",
       "      <td>88672.334885</td>\n",
       "      <td>19530.965941</td>\n",
       "      <td>73908.832793</td>\n",
       "    </tr>\n",
       "    <tr>\n",
       "      <th>19</th>\n",
       "      <td>65478.757544</td>\n",
       "      <td>87928.821791</td>\n",
       "      <td>18154.536280</td>\n",
       "      <td>75399.415807</td>\n",
       "    </tr>\n",
       "    <tr>\n",
       "      <th>20</th>\n",
       "      <td>61533.717399</td>\n",
       "      <td>88267.272273</td>\n",
       "      <td>14987.152131</td>\n",
       "      <td>72665.098512</td>\n",
       "    </tr>\n",
       "    <tr>\n",
       "      <th>21</th>\n",
       "      <td>56827.095925</td>\n",
       "      <td>90759.612536</td>\n",
       "      <td>13705.682799</td>\n",
       "      <td>70771.148622</td>\n",
       "    </tr>\n",
       "    <tr>\n",
       "      <th>22</th>\n",
       "      <td>53304.159949</td>\n",
       "      <td>92789.328433</td>\n",
       "      <td>9975.938874</td>\n",
       "      <td>72053.243934</td>\n",
       "    </tr>\n",
       "    <tr>\n",
       "      <th>23</th>\n",
       "      <td>50731.815116</td>\n",
       "      <td>92236.131053</td>\n",
       "      <td>6753.554902</td>\n",
       "      <td>74144.431372</td>\n",
       "    </tr>\n",
       "    <tr>\n",
       "      <th>24</th>\n",
       "      <td>47487.681075</td>\n",
       "      <td>94771.123103</td>\n",
       "      <td>3938.989917</td>\n",
       "      <td>75326.306970</td>\n",
       "    </tr>\n",
       "    <tr>\n",
       "      <th>25</th>\n",
       "      <td>45585.621290</td>\n",
       "      <td>95741.319513</td>\n",
       "      <td>4862.214220</td>\n",
       "      <td>74726.876588</td>\n",
       "    </tr>\n",
       "    <tr>\n",
       "      <th>26</th>\n",
       "      <td>43106.967482</td>\n",
       "      <td>96692.519056</td>\n",
       "      <td>5644.237435</td>\n",
       "      <td>72523.886788</td>\n",
       "    </tr>\n",
       "    <tr>\n",
       "      <th>27</th>\n",
       "      <td>39438.775047</td>\n",
       "      <td>100534.346530</td>\n",
       "      <td>2503.640845</td>\n",
       "      <td>69981.816403</td>\n",
       "    </tr>\n",
       "    <tr>\n",
       "      <th>28</th>\n",
       "      <td>34901.545533</td>\n",
       "      <td>99936.422466</td>\n",
       "      <td>1898.867440</td>\n",
       "      <td>67807.333000</td>\n",
       "    </tr>\n",
       "    <tr>\n",
       "      <th>29</th>\n",
       "      <td>30699.766834</td>\n",
       "      <td>99234.782696</td>\n",
       "      <td>1242.573954</td>\n",
       "      <td>66751.629328</td>\n",
       "    </tr>\n",
       "    <tr>\n",
       "      <th>...</th>\n",
       "      <td>...</td>\n",
       "      <td>...</td>\n",
       "      <td>...</td>\n",
       "      <td>...</td>\n",
       "    </tr>\n",
       "    <tr>\n",
       "      <th>226</th>\n",
       "      <td>195521.720300</td>\n",
       "      <td>-78492.211933</td>\n",
       "      <td>-39335.745728</td>\n",
       "      <td>-27602.853645</td>\n",
       "    </tr>\n",
       "    <tr>\n",
       "      <th>227</th>\n",
       "      <td>193295.324004</td>\n",
       "      <td>-78516.651365</td>\n",
       "      <td>-39464.371131</td>\n",
       "      <td>-26306.682580</td>\n",
       "    </tr>\n",
       "    <tr>\n",
       "      <th>228</th>\n",
       "      <td>194577.589893</td>\n",
       "      <td>-78685.748461</td>\n",
       "      <td>-39265.821239</td>\n",
       "      <td>-28609.709276</td>\n",
       "    </tr>\n",
       "    <tr>\n",
       "      <th>229</th>\n",
       "      <td>193859.444549</td>\n",
       "      <td>-83294.105801</td>\n",
       "      <td>-41604.188861</td>\n",
       "      <td>-28699.682568</td>\n",
       "    </tr>\n",
       "    <tr>\n",
       "      <th>230</th>\n",
       "      <td>195220.468873</td>\n",
       "      <td>-83961.146258</td>\n",
       "      <td>-40266.092139</td>\n",
       "      <td>-28750.902950</td>\n",
       "    </tr>\n",
       "    <tr>\n",
       "      <th>231</th>\n",
       "      <td>194230.178971</td>\n",
       "      <td>-84254.370984</td>\n",
       "      <td>-42158.121261</td>\n",
       "      <td>-26663.759029</td>\n",
       "    </tr>\n",
       "    <tr>\n",
       "      <th>232</th>\n",
       "      <td>193849.469934</td>\n",
       "      <td>-79522.366535</td>\n",
       "      <td>-45597.713538</td>\n",
       "      <td>-25805.483892</td>\n",
       "    </tr>\n",
       "    <tr>\n",
       "      <th>233</th>\n",
       "      <td>194824.938729</td>\n",
       "      <td>-83490.254366</td>\n",
       "      <td>-40836.421470</td>\n",
       "      <td>-24559.153708</td>\n",
       "    </tr>\n",
       "    <tr>\n",
       "      <th>234</th>\n",
       "      <td>194546.076457</td>\n",
       "      <td>-86845.213481</td>\n",
       "      <td>-43075.095876</td>\n",
       "      <td>-25366.245166</td>\n",
       "    </tr>\n",
       "    <tr>\n",
       "      <th>235</th>\n",
       "      <td>194775.669900</td>\n",
       "      <td>-87714.479543</td>\n",
       "      <td>-42558.413585</td>\n",
       "      <td>-22438.999429</td>\n",
       "    </tr>\n",
       "    <tr>\n",
       "      <th>236</th>\n",
       "      <td>192586.340077</td>\n",
       "      <td>-82271.239225</td>\n",
       "      <td>-40956.090424</td>\n",
       "      <td>-20539.433615</td>\n",
       "    </tr>\n",
       "    <tr>\n",
       "      <th>237</th>\n",
       "      <td>193136.779435</td>\n",
       "      <td>-80869.691444</td>\n",
       "      <td>-43885.927297</td>\n",
       "      <td>-21044.300312</td>\n",
       "    </tr>\n",
       "    <tr>\n",
       "      <th>238</th>\n",
       "      <td>194036.910108</td>\n",
       "      <td>-85070.593307</td>\n",
       "      <td>-41913.830804</td>\n",
       "      <td>-24254.041128</td>\n",
       "    </tr>\n",
       "    <tr>\n",
       "      <th>239</th>\n",
       "      <td>194307.108180</td>\n",
       "      <td>-83564.663743</td>\n",
       "      <td>-44896.968405</td>\n",
       "      <td>-19326.432481</td>\n",
       "    </tr>\n",
       "    <tr>\n",
       "      <th>240</th>\n",
       "      <td>194618.540401</td>\n",
       "      <td>-81371.085056</td>\n",
       "      <td>-43349.317425</td>\n",
       "      <td>-16445.895282</td>\n",
       "    </tr>\n",
       "    <tr>\n",
       "      <th>241</th>\n",
       "      <td>193803.709948</td>\n",
       "      <td>-82124.592237</td>\n",
       "      <td>-44830.504628</td>\n",
       "      <td>-16282.820880</td>\n",
       "    </tr>\n",
       "    <tr>\n",
       "      <th>242</th>\n",
       "      <td>194656.946834</td>\n",
       "      <td>-79304.003929</td>\n",
       "      <td>-40850.052929</td>\n",
       "      <td>-12785.783116</td>\n",
       "    </tr>\n",
       "    <tr>\n",
       "      <th>243</th>\n",
       "      <td>193606.158832</td>\n",
       "      <td>-77745.033214</td>\n",
       "      <td>-41291.571730</td>\n",
       "      <td>-14049.199104</td>\n",
       "    </tr>\n",
       "    <tr>\n",
       "      <th>244</th>\n",
       "      <td>192418.746152</td>\n",
       "      <td>-74701.626697</td>\n",
       "      <td>-39893.390664</td>\n",
       "      <td>-10671.386167</td>\n",
       "    </tr>\n",
       "    <tr>\n",
       "      <th>245</th>\n",
       "      <td>193065.355303</td>\n",
       "      <td>-76442.205939</td>\n",
       "      <td>-40230.799863</td>\n",
       "      <td>-9958.973531</td>\n",
       "    </tr>\n",
       "    <tr>\n",
       "      <th>246</th>\n",
       "      <td>191671.575525</td>\n",
       "      <td>-76066.825339</td>\n",
       "      <td>-38379.928265</td>\n",
       "      <td>-5415.872190</td>\n",
       "    </tr>\n",
       "    <tr>\n",
       "      <th>247</th>\n",
       "      <td>194201.759874</td>\n",
       "      <td>-74916.384401</td>\n",
       "      <td>-37031.336162</td>\n",
       "      <td>-4668.188312</td>\n",
       "    </tr>\n",
       "    <tr>\n",
       "      <th>248</th>\n",
       "      <td>194595.958134</td>\n",
       "      <td>-74624.302006</td>\n",
       "      <td>-32390.052008</td>\n",
       "      <td>-3882.059642</td>\n",
       "    </tr>\n",
       "    <tr>\n",
       "      <th>249</th>\n",
       "      <td>199911.359909</td>\n",
       "      <td>-78585.754924</td>\n",
       "      <td>-31591.495601</td>\n",
       "      <td>3425.589220</td>\n",
       "    </tr>\n",
       "    <tr>\n",
       "      <th>250</th>\n",
       "      <td>202588.567892</td>\n",
       "      <td>-78080.109343</td>\n",
       "      <td>-30494.323955</td>\n",
       "      <td>17237.671519</td>\n",
       "    </tr>\n",
       "    <tr>\n",
       "      <th>251</th>\n",
       "      <td>207873.126304</td>\n",
       "      <td>-81990.314039</td>\n",
       "      <td>-30174.818747</td>\n",
       "      <td>29302.778258</td>\n",
       "    </tr>\n",
       "    <tr>\n",
       "      <th>252</th>\n",
       "      <td>209361.290080</td>\n",
       "      <td>-85891.997670</td>\n",
       "      <td>-32234.339312</td>\n",
       "      <td>42216.737315</td>\n",
       "    </tr>\n",
       "    <tr>\n",
       "      <th>253</th>\n",
       "      <td>212489.023788</td>\n",
       "      <td>-87793.891427</td>\n",
       "      <td>-30743.286430</td>\n",
       "      <td>62188.999733</td>\n",
       "    </tr>\n",
       "    <tr>\n",
       "      <th>254</th>\n",
       "      <td>213215.377800</td>\n",
       "      <td>-81377.737866</td>\n",
       "      <td>-28270.235828</td>\n",
       "      <td>72426.085269</td>\n",
       "    </tr>\n",
       "    <tr>\n",
       "      <th>255</th>\n",
       "      <td>139812.092761</td>\n",
       "      <td>67818.484471</td>\n",
       "      <td>-36396.310120</td>\n",
       "      <td>132988.854815</td>\n",
       "    </tr>\n",
       "  </tbody>\n",
       "</table>\n",
       "<p>256 rows × 4 columns</p>\n",
       "</div>"
      ],
      "text/plain": [
       "       Component 1    Component 2   Component 3    Component 4\n",
       "0    154758.005485   24727.956730  21791.880757  117533.007277\n",
       "1    143228.383639   21895.521493  27426.305944  124128.401045\n",
       "2    139746.082280   27702.072123  29165.159895  118841.917826\n",
       "3    137775.000681   40775.078620  33577.177790  106256.394655\n",
       "4    131886.308864   50018.421948  36822.898844   98673.724586\n",
       "5    123492.340049   58278.726711  40024.568605   92117.156935\n",
       "6    113975.221896   64577.122677  40137.299281   84965.123678\n",
       "7    106195.226458   69144.903044  35905.515609   78494.414933\n",
       "8    101582.325859   72473.773224  33617.795908   75308.947669\n",
       "9    100438.911154   76738.834506  33332.500234   74245.281985\n",
       "10    97921.458648   75997.782806  30459.775181   76562.905490\n",
       "11    96049.042612   75692.293326  29186.563063   74316.410364\n",
       "12    93307.880601   78336.370905  28486.232933   74701.298018\n",
       "13    88763.037566   81344.784845  27389.970147   75103.802147\n",
       "14    84656.027910   83466.553872  26360.885409   75518.679694\n",
       "15    81087.678722   84169.795423  24960.365920   74844.795965\n",
       "16    76703.728296   84327.357190  23782.466203   73457.772304\n",
       "17    74723.948119   87005.944971  22445.582833   75078.996438\n",
       "18    69620.610657   88672.334885  19530.965941   73908.832793\n",
       "19    65478.757544   87928.821791  18154.536280   75399.415807\n",
       "20    61533.717399   88267.272273  14987.152131   72665.098512\n",
       "21    56827.095925   90759.612536  13705.682799   70771.148622\n",
       "22    53304.159949   92789.328433   9975.938874   72053.243934\n",
       "23    50731.815116   92236.131053   6753.554902   74144.431372\n",
       "24    47487.681075   94771.123103   3938.989917   75326.306970\n",
       "25    45585.621290   95741.319513   4862.214220   74726.876588\n",
       "26    43106.967482   96692.519056   5644.237435   72523.886788\n",
       "27    39438.775047  100534.346530   2503.640845   69981.816403\n",
       "28    34901.545533   99936.422466   1898.867440   67807.333000\n",
       "29    30699.766834   99234.782696   1242.573954   66751.629328\n",
       "..             ...            ...           ...            ...\n",
       "226  195521.720300  -78492.211933 -39335.745728  -27602.853645\n",
       "227  193295.324004  -78516.651365 -39464.371131  -26306.682580\n",
       "228  194577.589893  -78685.748461 -39265.821239  -28609.709276\n",
       "229  193859.444549  -83294.105801 -41604.188861  -28699.682568\n",
       "230  195220.468873  -83961.146258 -40266.092139  -28750.902950\n",
       "231  194230.178971  -84254.370984 -42158.121261  -26663.759029\n",
       "232  193849.469934  -79522.366535 -45597.713538  -25805.483892\n",
       "233  194824.938729  -83490.254366 -40836.421470  -24559.153708\n",
       "234  194546.076457  -86845.213481 -43075.095876  -25366.245166\n",
       "235  194775.669900  -87714.479543 -42558.413585  -22438.999429\n",
       "236  192586.340077  -82271.239225 -40956.090424  -20539.433615\n",
       "237  193136.779435  -80869.691444 -43885.927297  -21044.300312\n",
       "238  194036.910108  -85070.593307 -41913.830804  -24254.041128\n",
       "239  194307.108180  -83564.663743 -44896.968405  -19326.432481\n",
       "240  194618.540401  -81371.085056 -43349.317425  -16445.895282\n",
       "241  193803.709948  -82124.592237 -44830.504628  -16282.820880\n",
       "242  194656.946834  -79304.003929 -40850.052929  -12785.783116\n",
       "243  193606.158832  -77745.033214 -41291.571730  -14049.199104\n",
       "244  192418.746152  -74701.626697 -39893.390664  -10671.386167\n",
       "245  193065.355303  -76442.205939 -40230.799863   -9958.973531\n",
       "246  191671.575525  -76066.825339 -38379.928265   -5415.872190\n",
       "247  194201.759874  -74916.384401 -37031.336162   -4668.188312\n",
       "248  194595.958134  -74624.302006 -32390.052008   -3882.059642\n",
       "249  199911.359909  -78585.754924 -31591.495601    3425.589220\n",
       "250  202588.567892  -78080.109343 -30494.323955   17237.671519\n",
       "251  207873.126304  -81990.314039 -30174.818747   29302.778258\n",
       "252  209361.290080  -85891.997670 -32234.339312   42216.737315\n",
       "253  212489.023788  -87793.891427 -30743.286430   62188.999733\n",
       "254  213215.377800  -81377.737866 -28270.235828   72426.085269\n",
       "255  139812.092761   67818.484471 -36396.310120  132988.854815\n",
       "\n",
       "[256 rows x 4 columns]"
      ]
     },
     "execution_count": 18,
     "metadata": {},
     "output_type": "execute_result"
    }
   ],
   "source": [
    "df_pca4 = pd.DataFrame(p4X, columns = ['Component 1', 'Component 2', 'Component 3', 'Component 4'])\n",
    "df_pca4"
   ]
  },
  {
   "cell_type": "code",
   "execution_count": 19,
   "metadata": {},
   "outputs": [
    {
     "name": "stdout",
     "output_type": "stream",
     "text": [
      "0.14944303311740575\n"
     ]
    }
   ],
   "source": [
    "# Only retains 14.9% variance with 4 components\n",
    "print(np.sum(pca4.explained_variance_ratio_))"
   ]
  },
  {
   "cell_type": "code",
   "execution_count": 20,
   "metadata": {},
   "outputs": [
    {
     "data": {
      "text/plain": [
       "(256, 256, 256, 7)"
      ]
     },
     "execution_count": 20,
     "metadata": {},
     "output_type": "execute_result"
    }
   ],
   "source": [
    "pca4_inv = pca4.inverse_transform(p4X)\n",
    "X4_trans = np.reshape(pca4_inv,(256, 256, 256, 7))\n",
    "X4_trans.shape"
   ]
  },
  {
   "cell_type": "code",
   "execution_count": 21,
   "metadata": {},
   "outputs": [
    {
     "data": {
      "application/vnd.jupyter.widget-view+json": {
       "model_id": "6f46625f85bd498fa794f7f3c254cb6f",
       "version_major": 2,
       "version_minor": 0
      },
      "text/plain": [
       "interactive(children=(IntSlider(value=127, description='z', max=255), Output()), _dom_classes=('widget-interac…"
      ]
     },
     "metadata": {},
     "output_type": "display_data"
    },
    {
     "data": {
      "text/plain": [
       "<function __main__.display_slice(z)>"
      ]
     },
     "execution_count": 21,
     "metadata": {},
     "output_type": "execute_result"
    }
   ],
   "source": [
    "# side by side comparison of original images and reconstructed\n",
    "def display_slice(z):\n",
    "    \n",
    "    #original\n",
    "    plt.figure(figsize=(16,12))\n",
    "    for i in range(7):\n",
    "        plt.subplot(3,4,i+1)\n",
    "        image = abs(MRI[:,:,z,i])\n",
    "        plt.imshow(image,cmap=\"gray\")\n",
    "        plt.axis('off')\n",
    "    plt.tight_layout()  \n",
    "    plt.suptitle('Original', y=1, size=20)\n",
    "    \n",
    "    #reconstruct images using reduced dataset\n",
    "    plt.figure(figsize=(16,12))\n",
    "    for i in range(7):\n",
    "        plt.subplot(3,4,i+1)        \n",
    "        image = abs(X4_trans[:,:,z,i])\n",
    "        plt.imshow(image,cmap=\"gray\")\n",
    "        plt.axis('off')\n",
    "    plt.tight_layout()    \n",
    "    plt.suptitle('Reconstructed', y=1, size=20)\n",
    "    \n",
    "   \n",
    "interact(display_slice, z=(0, 255))"
   ]
  },
  {
   "cell_type": "markdown",
   "metadata": {},
   "source": [
    "How many components are needed to retain 65% variance?"
   ]
  },
  {
   "cell_type": "code",
   "execution_count": 22,
   "metadata": {},
   "outputs": [],
   "source": [
    "pca_n = PCA(0.65)"
   ]
  },
  {
   "cell_type": "code",
   "execution_count": 23,
   "metadata": {},
   "outputs": [],
   "source": [
    "pnX = pca_n.fit_transform(X)"
   ]
  },
  {
   "cell_type": "code",
   "execution_count": 24,
   "metadata": {},
   "outputs": [
    {
     "name": "stdout",
     "output_type": "stream",
     "text": [
      "Original shape:  (256, 458752)\n",
      "Transformed shape:  (256, 91)\n"
     ]
    }
   ],
   "source": [
    "print(\"Original shape: \", X.shape)\n",
    "print(\"Transformed shape: \", pnX.shape)"
   ]
  },
  {
   "cell_type": "code",
   "execution_count": 25,
   "metadata": {},
   "outputs": [
    {
     "name": "stdout",
     "output_type": "stream",
     "text": [
      "0.6502583462017033\n"
     ]
    }
   ],
   "source": [
    "print(np.sum(pca_n.explained_variance_ratio_))"
   ]
  },
  {
   "cell_type": "code",
   "execution_count": 26,
   "metadata": {},
   "outputs": [
    {
     "data": {
      "text/plain": [
       "(256, 256, 256, 7)"
      ]
     },
     "execution_count": 26,
     "metadata": {},
     "output_type": "execute_result"
    }
   ],
   "source": [
    "pca91_inv = pca_n.inverse_transform(pnX)\n",
    "X91_trans = np.reshape(pca91_inv,(256, 256, 256, 7))\n",
    "X91_trans.shape"
   ]
  },
  {
   "cell_type": "code",
   "execution_count": 27,
   "metadata": {},
   "outputs": [
    {
     "data": {
      "application/vnd.jupyter.widget-view+json": {
       "model_id": "0358de0e08f44e6b9f72d12ad962287a",
       "version_major": 2,
       "version_minor": 0
      },
      "text/plain": [
       "interactive(children=(IntSlider(value=127, description='z', max=255), Output()), _dom_classes=('widget-interac…"
      ]
     },
     "metadata": {},
     "output_type": "display_data"
    },
    {
     "data": {
      "text/plain": [
       "<function __main__.display_slice(z)>"
      ]
     },
     "execution_count": 27,
     "metadata": {},
     "output_type": "execute_result"
    }
   ],
   "source": [
    "# side by side comparison of original images and reconstructed\n",
    "def display_slice(z):\n",
    "    \n",
    "    #original\n",
    "    plt.figure(figsize=(16,12))\n",
    "    for i in range(7):\n",
    "        plt.subplot(3,4,i+1)\n",
    "        image = abs(MRI[:,:,z,i])\n",
    "        plt.imshow(image,cmap=\"gray\")\n",
    "        plt.axis('off')\n",
    "    plt.tight_layout()  \n",
    "    plt.suptitle('Original', y=1, size=20)\n",
    "    \n",
    "    #reconstruct images using reduced dataset\n",
    "    plt.figure(figsize=(16,12))\n",
    "    for i in range(7):\n",
    "        plt.subplot(3,4,i+1)        \n",
    "        image = abs(X91_trans[:,:,z,i])\n",
    "        plt.imshow(image,cmap=\"gray\")\n",
    "        plt.axis('off')\n",
    "    plt.tight_layout()  \n",
    "    plt.suptitle('Reconstructed', y=1, size=20)\n",
    "    \n",
    "   \n",
    "interact(display_slice, z=(0, 255))"
   ]
  },
  {
   "cell_type": "code",
   "execution_count": 28,
   "metadata": {},
   "outputs": [
    {
     "data": {
      "image/png": "[encoded data removed]",
      "text/plain": [
       "<Figure size 432x288 with 1 Axes>"
      ]
     },
     "metadata": {
      "needs_background": "light"
     },
     "output_type": "display_data"
    }
   ],
   "source": [
    "pca_vis = PCA().fit(X)\n",
    "plt.plot(np.cumsum(pca_vis.explained_variance_ratio_))\n",
    "plt.xlabel('number of components')\n",
    "plt.ylabel('cumulative explained variance');"
   ]
  }
 ],
 "metadata": {
  "kernelspec": {
   "display_name": "Python 3",
   "language": "python",
   "name": "python3"
  },
  "language_info": {
   "codemirror_mode": {
    "name": "ipython",
    "version": 3
   },
   "file_extension": ".py",
   "mimetype": "text/x-python",
   "name": "python",
   "nbconvert_exporter": "python",
   "pygments_lexer": "ipython3",
   "version": "3.7.1"
  }
 },
 "nbformat": 4,
 "nbformat_minor": 2
}
