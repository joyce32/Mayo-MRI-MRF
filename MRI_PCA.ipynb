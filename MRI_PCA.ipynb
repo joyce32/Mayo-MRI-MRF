{
 "cells": [
  {
   "cell_type": "code",
   "execution_count": 1,
   "metadata": {},
   "outputs": [],
   "source": [
    "import numpy as np\n",
    "import pandas as pd\n",
    "import matplotlib.pyplot as plt\n",
    "from sklearn.decomposition import PCA\n",
    "from ipywidgets import interact, interactive, fixed, interact_manual\n",
    "import ipywidgets as widgets"
   ]
  },
  {
   "cell_type": "code",
   "execution_count": 23,
   "metadata": {},
   "outputs": [
    {
     "name": "stdout",
     "output_type": "stream",
     "text": [
      "Requirement already satisfied: ipywidgets in /Users/tejaswirachapudi/anaconda3/lib/python3.7/site-packages (7.4.2)\n",
      "Requirement already satisfied: nbformat>=4.2.0 in /Users/tejaswirachapudi/anaconda3/lib/python3.7/site-packages (from ipywidgets) (4.4.0)\n",
      "Requirement already satisfied: widgetsnbextension~=3.4.0 in /Users/tejaswirachapudi/anaconda3/lib/python3.7/site-packages (from ipywidgets) (3.4.2)\n",
      "Requirement already satisfied: ipykernel>=4.5.1 in /Users/tejaswirachapudi/anaconda3/lib/python3.7/site-packages (from ipywidgets) (5.1.0)\n",
      "Requirement already satisfied: traitlets>=4.3.1 in /Users/tejaswirachapudi/anaconda3/lib/python3.7/site-packages (from ipywidgets) (4.3.2)\n",
      "Requirement already satisfied: ipython>=4.0.0; python_version >= \"3.3\" in /Users/tejaswirachapudi/anaconda3/lib/python3.7/site-packages (from ipywidgets) (7.2.0)\n",
      "Requirement already satisfied: jupyter-core in /Users/tejaswirachapudi/anaconda3/lib/python3.7/site-packages (from nbformat>=4.2.0->ipywidgets) (4.4.0)\n",
      "Requirement already satisfied: ipython-genutils in /Users/tejaswirachapudi/anaconda3/lib/python3.7/site-packages (from nbformat>=4.2.0->ipywidgets) (0.2.0)\n",
      "Requirement already satisfied: jsonschema!=2.5.0,>=2.4 in /Users/tejaswirachapudi/anaconda3/lib/python3.7/site-packages (from nbformat>=4.2.0->ipywidgets) (2.6.0)\n",
      "Requirement already satisfied: notebook>=4.4.1 in /Users/tejaswirachapudi/anaconda3/lib/python3.7/site-packages (from widgetsnbextension~=3.4.0->ipywidgets) (5.7.4)\n",
      "Requirement already satisfied: jupyter-client in /Users/tejaswirachapudi/anaconda3/lib/python3.7/site-packages (from ipykernel>=4.5.1->ipywidgets) (5.2.4)\n",
      "Requirement already satisfied: tornado>=4.2 in /Users/tejaswirachapudi/anaconda3/lib/python3.7/site-packages (from ipykernel>=4.5.1->ipywidgets) (5.1.1)\n",
      "Requirement already satisfied: six in /Users/tejaswirachapudi/anaconda3/lib/python3.7/site-packages (from traitlets>=4.3.1->ipywidgets) (1.12.0)\n",
      "Requirement already satisfied: decorator in /Users/tejaswirachapudi/anaconda3/lib/python3.7/site-packages (from traitlets>=4.3.1->ipywidgets) (4.3.0)\n",
      "Requirement already satisfied: setuptools>=18.5 in /Users/tejaswirachapudi/anaconda3/lib/python3.7/site-packages (from ipython>=4.0.0; python_version >= \"3.3\"->ipywidgets) (40.6.3)\n",
      "Requirement already satisfied: prompt-toolkit<2.1.0,>=2.0.0 in /Users/tejaswirachapudi/anaconda3/lib/python3.7/site-packages (from ipython>=4.0.0; python_version >= \"3.3\"->ipywidgets) (2.0.7)\n",
      "Requirement already satisfied: pickleshare in /Users/tejaswirachapudi/anaconda3/lib/python3.7/site-packages (from ipython>=4.0.0; python_version >= \"3.3\"->ipywidgets) (0.7.5)\n",
      "Requirement already satisfied: appnope; sys_platform == \"darwin\" in /Users/tejaswirachapudi/anaconda3/lib/python3.7/site-packages (from ipython>=4.0.0; python_version >= \"3.3\"->ipywidgets) (0.1.0)\n",
      "Requirement already satisfied: jedi>=0.10 in /Users/tejaswirachapudi/anaconda3/lib/python3.7/site-packages (from ipython>=4.0.0; python_version >= \"3.3\"->ipywidgets) (0.13.2)\n",
      "Requirement already satisfied: pexpect; sys_platform != \"win32\" in /Users/tejaswirachapudi/anaconda3/lib/python3.7/site-packages (from ipython>=4.0.0; python_version >= \"3.3\"->ipywidgets) (4.6.0)\n",
      "Requirement already satisfied: backcall in /Users/tejaswirachapudi/anaconda3/lib/python3.7/site-packages (from ipython>=4.0.0; python_version >= \"3.3\"->ipywidgets) (0.1.0)\n",
      "Requirement already satisfied: pygments in /Users/tejaswirachapudi/anaconda3/lib/python3.7/site-packages (from ipython>=4.0.0; python_version >= \"3.3\"->ipywidgets) (2.3.1)\n",
      "Requirement already satisfied: jinja2 in /Users/tejaswirachapudi/anaconda3/lib/python3.7/site-packages (from notebook>=4.4.1->widgetsnbextension~=3.4.0->ipywidgets) (2.10)\n",
      "Requirement already satisfied: prometheus-client in /Users/tejaswirachapudi/anaconda3/lib/python3.7/site-packages (from notebook>=4.4.1->widgetsnbextension~=3.4.0->ipywidgets) (0.5.0)\n",
      "Requirement already satisfied: nbconvert in /Users/tejaswirachapudi/anaconda3/lib/python3.7/site-packages (from notebook>=4.4.1->widgetsnbextension~=3.4.0->ipywidgets) (5.4.0)\n",
      "Requirement already satisfied: pyzmq>=17 in /Users/tejaswirachapudi/anaconda3/lib/python3.7/site-packages (from notebook>=4.4.1->widgetsnbextension~=3.4.0->ipywidgets) (17.1.2)\n",
      "Requirement already satisfied: Send2Trash in /Users/tejaswirachapudi/anaconda3/lib/python3.7/site-packages (from notebook>=4.4.1->widgetsnbextension~=3.4.0->ipywidgets) (1.5.0)\n",
      "Requirement already satisfied: terminado>=0.8.1 in /Users/tejaswirachapudi/anaconda3/lib/python3.7/site-packages (from notebook>=4.4.1->widgetsnbextension~=3.4.0->ipywidgets) (0.8.1)\n",
      "Requirement already satisfied: python-dateutil>=2.1 in /Users/tejaswirachapudi/anaconda3/lib/python3.7/site-packages (from jupyter-client->ipykernel>=4.5.1->ipywidgets) (2.7.5)\n",
      "Requirement already satisfied: wcwidth in /Users/tejaswirachapudi/anaconda3/lib/python3.7/site-packages (from prompt-toolkit<2.1.0,>=2.0.0->ipython>=4.0.0; python_version >= \"3.3\"->ipywidgets) (0.1.7)\n",
      "Requirement already satisfied: parso>=0.3.0 in /Users/tejaswirachapudi/anaconda3/lib/python3.7/site-packages (from jedi>=0.10->ipython>=4.0.0; python_version >= \"3.3\"->ipywidgets) (0.3.1)\n",
      "Requirement already satisfied: ptyprocess>=0.5 in /Users/tejaswirachapudi/anaconda3/lib/python3.7/site-packages (from pexpect; sys_platform != \"win32\"->ipython>=4.0.0; python_version >= \"3.3\"->ipywidgets) (0.6.0)\n",
      "Requirement already satisfied: MarkupSafe>=0.23 in /Users/tejaswirachapudi/anaconda3/lib/python3.7/site-packages (from jinja2->notebook>=4.4.1->widgetsnbextension~=3.4.0->ipywidgets) (1.1.0)\n",
      "Requirement already satisfied: mistune>=0.8.1 in /Users/tejaswirachapudi/anaconda3/lib/python3.7/site-packages (from nbconvert->notebook>=4.4.1->widgetsnbextension~=3.4.0->ipywidgets) (0.8.4)\n",
      "Requirement already satisfied: entrypoints>=0.2.2 in /Users/tejaswirachapudi/anaconda3/lib/python3.7/site-packages (from nbconvert->notebook>=4.4.1->widgetsnbextension~=3.4.0->ipywidgets) (0.2.3)\n",
      "Requirement already satisfied: bleach in /Users/tejaswirachapudi/anaconda3/lib/python3.7/site-packages (from nbconvert->notebook>=4.4.1->widgetsnbextension~=3.4.0->ipywidgets) (3.0.2)\n",
      "Requirement already satisfied: pandocfilters>=1.4.1 in /Users/tejaswirachapudi/anaconda3/lib/python3.7/site-packages (from nbconvert->notebook>=4.4.1->widgetsnbextension~=3.4.0->ipywidgets) (1.4.2)\n",
      "Requirement already satisfied: testpath in /Users/tejaswirachapudi/anaconda3/lib/python3.7/site-packages (from nbconvert->notebook>=4.4.1->widgetsnbextension~=3.4.0->ipywidgets) (0.4.2)\n",
      "Requirement already satisfied: defusedxml in /Users/tejaswirachapudi/anaconda3/lib/python3.7/site-packages (from nbconvert->notebook>=4.4.1->widgetsnbextension~=3.4.0->ipywidgets) (0.5.0)\n",
      "Requirement already satisfied: webencodings in /Users/tejaswirachapudi/anaconda3/lib/python3.7/site-packages (from bleach->nbconvert->notebook>=4.4.1->widgetsnbextension~=3.4.0->ipywidgets) (0.5.1)\n",
      "Enabling notebook extension jupyter-js-widgets/extension...\n",
      "      - Validating: \u001b[32mOK\u001b[0m\n"
     ]
    }
   ],
   "source": [
    "!pip install ipywidgets\n",
    "!jupyter nbextension enable --py widgetsnbextension"
   ]
  },
  {
   "cell_type": "code",
   "execution_count": 24,
   "metadata": {},
   "outputs": [],
   "source": [
    "# -------------\n",
    "# Get MRI data (256,256,256,7)\n",
    "# [\"PDw_au\",\"syFLAIR\",\"syFSE\",\"syGRE\",\"syMP2RAGE\",\"T1\",\"T2\"]\n",
    "# -------------\n",
    "MRI = np.load(\"../AHIResearch/Rotated_MRI_cube.npy\")"
   ]
  },
  {
   "cell_type": "code",
   "execution_count": 25,
   "metadata": {},
   "outputs": [
    {
     "data": {
      "text/plain": [
       "(256, 256, 256, 7)"
      ]
     },
     "execution_count": 25,
     "metadata": {},
     "output_type": "execute_result"
    }
   ],
   "source": [
    "MRI.shape"
   ]
  },
  {
   "cell_type": "code",
   "execution_count": 26,
   "metadata": {},
   "outputs": [
    {
     "data": {
      "text/plain": [
       "(458752,)"
      ]
     },
     "execution_count": 26,
     "metadata": {},
     "output_type": "execute_result"
    }
   ],
   "source": [
    "# single slice calculation \n",
    "slice_0 = MRI[:,:,0,:]\n",
    "n0,n1,n2 = slice_0.shape\n",
    "slice_0 = np.reshape(slice_0, (n0*n1*n2))\n",
    "slice_0.shape"
   ]
  },
  {
   "cell_type": "code",
   "execution_count": 27,
   "metadata": {},
   "outputs": [
    {
     "data": {
      "text/plain": [
       "256"
      ]
     },
     "execution_count": 27,
     "metadata": {},
     "output_type": "execute_result"
    }
   ],
   "source": [
    "# 256 slices each of size 458752, appended into a list\n",
    "X = []\n",
    "for z in range(256):\n",
    "    slice_z = MRI[:, :, z, :]\n",
    "    n0,n1,n2 = slice_z.shape\n",
    "    slice_z = np.reshape(slice_z, (n0*n1*n2))\n",
    "    X.append(slice_z)\n",
    "len(X)"
   ]
  },
  {
   "cell_type": "code",
   "execution_count": 28,
   "metadata": {},
   "outputs": [
    {
     "data": {
      "text/plain": [
       "(256, 458752)"
      ]
     },
     "execution_count": 28,
     "metadata": {},
     "output_type": "execute_result"
    }
   ],
   "source": [
    "# convert list to array shape (256, 458752)\n",
    "X = np.asarray(X)\n",
    "X.shape"
   ]
  },
  {
   "cell_type": "markdown",
   "metadata": {},
   "source": [
    "2 Component Analysis"
   ]
  },
  {
   "cell_type": "code",
   "execution_count": 29,
   "metadata": {},
   "outputs": [],
   "source": [
    "pca = PCA(n_components=2)"
   ]
  },
  {
   "cell_type": "code",
   "execution_count": 30,
   "metadata": {},
   "outputs": [],
   "source": [
    "pX = pca.fit_transform(X)"
   ]
  },
  {
   "cell_type": "code",
   "execution_count": 31,
   "metadata": {},
   "outputs": [
    {
     "name": "stdout",
     "output_type": "stream",
     "text": [
      "Original shape:  (256, 458752)\n",
      "Transformed shape:  (256, 2)\n"
     ]
    }
   ],
   "source": [
    "print(\"Original shape: \", X.shape)\n",
    "print(\"Transformed shape: \", pX.shape)"
   ]
  },
  {
   "cell_type": "code",
   "execution_count": 32,
   "metadata": {},
   "outputs": [
    {
     "data": {
      "text/html": [
       "<div>\n",
       "<style scoped>\n",
       "    .dataframe tbody tr th:only-of-type {\n",
       "        vertical-align: middle;\n",
       "    }\n",
       "\n",
       "    .dataframe tbody tr th {\n",
       "        vertical-align: top;\n",
       "    }\n",
       "\n",
       "    .dataframe thead th {\n",
       "        text-align: right;\n",
       "    }\n",
       "</style>\n",
       "<table border=\"1\" class=\"dataframe\">\n",
       "  <thead>\n",
       "    <tr style=\"text-align: right;\">\n",
       "      <th></th>\n",
       "      <th>Component 1</th>\n",
       "      <th>Component 2</th>\n",
       "    </tr>\n",
       "  </thead>\n",
       "  <tbody>\n",
       "    <tr>\n",
       "      <th>0</th>\n",
       "      <td>154758.005341</td>\n",
       "      <td>24735.131256</td>\n",
       "    </tr>\n",
       "    <tr>\n",
       "      <th>1</th>\n",
       "      <td>143228.383441</td>\n",
       "      <td>21902.337350</td>\n",
       "    </tr>\n",
       "    <tr>\n",
       "      <th>2</th>\n",
       "      <td>139746.082072</td>\n",
       "      <td>27709.029018</td>\n",
       "    </tr>\n",
       "    <tr>\n",
       "      <th>3</th>\n",
       "      <td>137775.000411</td>\n",
       "      <td>40780.647211</td>\n",
       "    </tr>\n",
       "    <tr>\n",
       "      <th>4</th>\n",
       "      <td>131886.308399</td>\n",
       "      <td>50022.392678</td>\n",
       "    </tr>\n",
       "    <tr>\n",
       "      <th>5</th>\n",
       "      <td>123492.339593</td>\n",
       "      <td>58280.894526</td>\n",
       "    </tr>\n",
       "    <tr>\n",
       "      <th>6</th>\n",
       "      <td>113975.221367</td>\n",
       "      <td>64578.515329</td>\n",
       "    </tr>\n",
       "    <tr>\n",
       "      <th>7</th>\n",
       "      <td>106195.225896</td>\n",
       "      <td>69145.963668</td>\n",
       "    </tr>\n",
       "    <tr>\n",
       "      <th>8</th>\n",
       "      <td>101582.325369</td>\n",
       "      <td>72473.526015</td>\n",
       "    </tr>\n",
       "    <tr>\n",
       "      <th>9</th>\n",
       "      <td>100438.910684</td>\n",
       "      <td>76737.184468</td>\n",
       "    </tr>\n",
       "    <tr>\n",
       "      <th>10</th>\n",
       "      <td>97921.458141</td>\n",
       "      <td>75994.852053</td>\n",
       "    </tr>\n",
       "    <tr>\n",
       "      <th>11</th>\n",
       "      <td>96049.042076</td>\n",
       "      <td>75688.482941</td>\n",
       "    </tr>\n",
       "    <tr>\n",
       "      <th>12</th>\n",
       "      <td>93307.880032</td>\n",
       "      <td>78331.919367</td>\n",
       "    </tr>\n",
       "    <tr>\n",
       "      <th>13</th>\n",
       "      <td>88763.037093</td>\n",
       "      <td>81340.008073</td>\n",
       "    </tr>\n",
       "    <tr>\n",
       "      <th>14</th>\n",
       "      <td>84656.027525</td>\n",
       "      <td>83462.011554</td>\n",
       "    </tr>\n",
       "    <tr>\n",
       "      <th>15</th>\n",
       "      <td>81087.678424</td>\n",
       "      <td>84165.660477</td>\n",
       "    </tr>\n",
       "    <tr>\n",
       "      <th>16</th>\n",
       "      <td>76703.728040</td>\n",
       "      <td>84323.714968</td>\n",
       "    </tr>\n",
       "    <tr>\n",
       "      <th>17</th>\n",
       "      <td>74723.947872</td>\n",
       "      <td>87003.552685</td>\n",
       "    </tr>\n",
       "    <tr>\n",
       "      <th>18</th>\n",
       "      <td>69620.610402</td>\n",
       "      <td>88671.721736</td>\n",
       "    </tr>\n",
       "    <tr>\n",
       "      <th>19</th>\n",
       "      <td>65478.757276</td>\n",
       "      <td>87928.900477</td>\n",
       "    </tr>\n",
       "    <tr>\n",
       "      <th>20</th>\n",
       "      <td>61533.717003</td>\n",
       "      <td>88268.002722</td>\n",
       "    </tr>\n",
       "    <tr>\n",
       "      <th>21</th>\n",
       "      <td>56827.095429</td>\n",
       "      <td>90760.095030</td>\n",
       "    </tr>\n",
       "    <tr>\n",
       "      <th>22</th>\n",
       "      <td>53304.159428</td>\n",
       "      <td>92790.392615</td>\n",
       "    </tr>\n",
       "    <tr>\n",
       "      <th>23</th>\n",
       "      <td>50731.814701</td>\n",
       "      <td>92236.907688</td>\n",
       "    </tr>\n",
       "    <tr>\n",
       "      <th>24</th>\n",
       "      <td>47487.680812</td>\n",
       "      <td>94770.349846</td>\n",
       "    </tr>\n",
       "    <tr>\n",
       "      <th>25</th>\n",
       "      <td>45585.621180</td>\n",
       "      <td>95739.290664</td>\n",
       "    </tr>\n",
       "    <tr>\n",
       "      <th>26</th>\n",
       "      <td>43106.967759</td>\n",
       "      <td>96689.824548</td>\n",
       "    </tr>\n",
       "    <tr>\n",
       "      <th>27</th>\n",
       "      <td>39438.775447</td>\n",
       "      <td>100530.018857</td>\n",
       "    </tr>\n",
       "    <tr>\n",
       "      <th>28</th>\n",
       "      <td>34901.546126</td>\n",
       "      <td>99931.848891</td>\n",
       "    </tr>\n",
       "    <tr>\n",
       "      <th>29</th>\n",
       "      <td>30699.767491</td>\n",
       "      <td>99229.389041</td>\n",
       "    </tr>\n",
       "    <tr>\n",
       "      <th>...</th>\n",
       "      <td>...</td>\n",
       "      <td>...</td>\n",
       "    </tr>\n",
       "    <tr>\n",
       "      <th>226</th>\n",
       "      <td>195521.720670</td>\n",
       "      <td>-78480.837965</td>\n",
       "    </tr>\n",
       "    <tr>\n",
       "      <th>227</th>\n",
       "      <td>193295.324022</td>\n",
       "      <td>-78506.557847</td>\n",
       "    </tr>\n",
       "    <tr>\n",
       "      <th>228</th>\n",
       "      <td>194577.589734</td>\n",
       "      <td>-78679.915186</td>\n",
       "    </tr>\n",
       "    <tr>\n",
       "      <th>229</th>\n",
       "      <td>193859.444391</td>\n",
       "      <td>-83290.639562</td>\n",
       "    </tr>\n",
       "    <tr>\n",
       "      <th>230</th>\n",
       "      <td>195220.468634</td>\n",
       "      <td>-83959.198921</td>\n",
       "    </tr>\n",
       "    <tr>\n",
       "      <th>231</th>\n",
       "      <td>194230.178792</td>\n",
       "      <td>-84253.813839</td>\n",
       "    </tr>\n",
       "    <tr>\n",
       "      <th>232</th>\n",
       "      <td>193849.469824</td>\n",
       "      <td>-79522.416669</td>\n",
       "    </tr>\n",
       "    <tr>\n",
       "      <th>233</th>\n",
       "      <td>194824.938477</td>\n",
       "      <td>-83494.830106</td>\n",
       "    </tr>\n",
       "    <tr>\n",
       "      <th>234</th>\n",
       "      <td>194546.076150</td>\n",
       "      <td>-86852.757255</td>\n",
       "    </tr>\n",
       "    <tr>\n",
       "      <th>235</th>\n",
       "      <td>194775.669656</td>\n",
       "      <td>-87722.291529</td>\n",
       "    </tr>\n",
       "    <tr>\n",
       "      <th>236</th>\n",
       "      <td>192586.340008</td>\n",
       "      <td>-82276.674264</td>\n",
       "    </tr>\n",
       "    <tr>\n",
       "      <th>237</th>\n",
       "      <td>193136.779505</td>\n",
       "      <td>-80870.414346</td>\n",
       "    </tr>\n",
       "    <tr>\n",
       "      <th>238</th>\n",
       "      <td>194036.910271</td>\n",
       "      <td>-85068.734916</td>\n",
       "    </tr>\n",
       "    <tr>\n",
       "      <th>239</th>\n",
       "      <td>194307.108412</td>\n",
       "      <td>-83561.696559</td>\n",
       "    </tr>\n",
       "    <tr>\n",
       "      <th>240</th>\n",
       "      <td>194618.540629</td>\n",
       "      <td>-81368.929692</td>\n",
       "    </tr>\n",
       "    <tr>\n",
       "      <th>241</th>\n",
       "      <td>193803.710060</td>\n",
       "      <td>-82125.229662</td>\n",
       "    </tr>\n",
       "    <tr>\n",
       "      <th>242</th>\n",
       "      <td>194656.946738</td>\n",
       "      <td>-79307.853993</td>\n",
       "    </tr>\n",
       "    <tr>\n",
       "      <th>243</th>\n",
       "      <td>193606.158482</td>\n",
       "      <td>-77753.805036</td>\n",
       "    </tr>\n",
       "    <tr>\n",
       "      <th>244</th>\n",
       "      <td>192418.745527</td>\n",
       "      <td>-74713.198115</td>\n",
       "    </tr>\n",
       "    <tr>\n",
       "      <th>245</th>\n",
       "      <td>193065.354613</td>\n",
       "      <td>-76456.131980</td>\n",
       "    </tr>\n",
       "    <tr>\n",
       "      <th>246</th>\n",
       "      <td>191671.574742</td>\n",
       "      <td>-76081.495343</td>\n",
       "    </tr>\n",
       "    <tr>\n",
       "      <th>247</th>\n",
       "      <td>194201.759320</td>\n",
       "      <td>-74928.450590</td>\n",
       "    </tr>\n",
       "    <tr>\n",
       "      <th>248</th>\n",
       "      <td>194595.957901</td>\n",
       "      <td>-74632.502481</td>\n",
       "    </tr>\n",
       "    <tr>\n",
       "      <th>249</th>\n",
       "      <td>199911.360009</td>\n",
       "      <td>-78591.779236</td>\n",
       "    </tr>\n",
       "    <tr>\n",
       "      <th>250</th>\n",
       "      <td>202588.568015</td>\n",
       "      <td>-78083.574965</td>\n",
       "    </tr>\n",
       "    <tr>\n",
       "      <th>251</th>\n",
       "      <td>207873.126611</td>\n",
       "      <td>-81988.967837</td>\n",
       "    </tr>\n",
       "    <tr>\n",
       "      <th>252</th>\n",
       "      <td>209361.290358</td>\n",
       "      <td>-85886.134641</td>\n",
       "    </tr>\n",
       "    <tr>\n",
       "      <th>253</th>\n",
       "      <td>212489.023850</td>\n",
       "      <td>-87786.187648</td>\n",
       "    </tr>\n",
       "    <tr>\n",
       "      <th>254</th>\n",
       "      <td>213215.377771</td>\n",
       "      <td>-81370.068647</td>\n",
       "    </tr>\n",
       "    <tr>\n",
       "      <th>255</th>\n",
       "      <td>139812.092656</td>\n",
       "      <td>67823.111708</td>\n",
       "    </tr>\n",
       "  </tbody>\n",
       "</table>\n",
       "<p>256 rows × 2 columns</p>\n",
       "</div>"
      ],
      "text/plain": [
       "       Component 1    Component 2\n",
       "0    154758.005341   24735.131256\n",
       "1    143228.383441   21902.337350\n",
       "2    139746.082072   27709.029018\n",
       "3    137775.000411   40780.647211\n",
       "4    131886.308399   50022.392678\n",
       "5    123492.339593   58280.894526\n",
       "6    113975.221367   64578.515329\n",
       "7    106195.225896   69145.963668\n",
       "8    101582.325369   72473.526015\n",
       "9    100438.910684   76737.184468\n",
       "10    97921.458141   75994.852053\n",
       "11    96049.042076   75688.482941\n",
       "12    93307.880032   78331.919367\n",
       "13    88763.037093   81340.008073\n",
       "14    84656.027525   83462.011554\n",
       "15    81087.678424   84165.660477\n",
       "16    76703.728040   84323.714968\n",
       "17    74723.947872   87003.552685\n",
       "18    69620.610402   88671.721736\n",
       "19    65478.757276   87928.900477\n",
       "20    61533.717003   88268.002722\n",
       "21    56827.095429   90760.095030\n",
       "22    53304.159428   92790.392615\n",
       "23    50731.814701   92236.907688\n",
       "24    47487.680812   94770.349846\n",
       "25    45585.621180   95739.290664\n",
       "26    43106.967759   96689.824548\n",
       "27    39438.775447  100530.018857\n",
       "28    34901.546126   99931.848891\n",
       "29    30699.767491   99229.389041\n",
       "..             ...            ...\n",
       "226  195521.720670  -78480.837965\n",
       "227  193295.324022  -78506.557847\n",
       "228  194577.589734  -78679.915186\n",
       "229  193859.444391  -83290.639562\n",
       "230  195220.468634  -83959.198921\n",
       "231  194230.178792  -84253.813839\n",
       "232  193849.469824  -79522.416669\n",
       "233  194824.938477  -83494.830106\n",
       "234  194546.076150  -86852.757255\n",
       "235  194775.669656  -87722.291529\n",
       "236  192586.340008  -82276.674264\n",
       "237  193136.779505  -80870.414346\n",
       "238  194036.910271  -85068.734916\n",
       "239  194307.108412  -83561.696559\n",
       "240  194618.540629  -81368.929692\n",
       "241  193803.710060  -82125.229662\n",
       "242  194656.946738  -79307.853993\n",
       "243  193606.158482  -77753.805036\n",
       "244  192418.745527  -74713.198115\n",
       "245  193065.354613  -76456.131980\n",
       "246  191671.574742  -76081.495343\n",
       "247  194201.759320  -74928.450590\n",
       "248  194595.957901  -74632.502481\n",
       "249  199911.360009  -78591.779236\n",
       "250  202588.568015  -78083.574965\n",
       "251  207873.126611  -81988.967837\n",
       "252  209361.290358  -85886.134641\n",
       "253  212489.023850  -87786.187648\n",
       "254  213215.377771  -81370.068647\n",
       "255  139812.092656   67823.111708\n",
       "\n",
       "[256 rows x 2 columns]"
      ]
     },
     "execution_count": 32,
     "metadata": {},
     "output_type": "execute_result"
    }
   ],
   "source": [
    "df_pca = pd.DataFrame(pX, columns = ['Component 1', 'Component 2'])\n",
    "df_pca"
   ]
  },
  {
   "cell_type": "code",
   "execution_count": 33,
   "metadata": {},
   "outputs": [
    {
     "data": {
      "text/plain": [
       "Text(0, 0.5, 'Component 2')"
      ]
     },
     "execution_count": 33,
     "metadata": {},
     "output_type": "execute_result"
    },
    {
     "data": {
      "image/png": "[encoded data removed]",
      "text/plain": [
       "<Figure size 864x288 with 1 Axes>"
      ]
     },
     "metadata": {
      "needs_background": "light"
     },
     "output_type": "display_data"
    }
   ],
   "source": [
    "plt.figure(figsize=(12,4))\n",
    "\n",
    "plt.subplot(1,3,1)\n",
    "plt.scatter(pX[:, 0], pX[:, 1], alpha=0.5)\n",
    "plt.title(\"2 Component PCA\") \n",
    "plt.grid()\n",
    "plt.xlabel ('Component 1') \n",
    "plt.ylabel ('Component 2')"
   ]
  },
  {
   "cell_type": "code",
   "execution_count": 34,
   "metadata": {},
   "outputs": [
    {
     "name": "stdout",
     "output_type": "stream",
     "text": [
      "0.11238561623856616\n"
     ]
    }
   ],
   "source": [
    "# Only retains 11.2% variance with 2 components\n",
    "print(np.sum(pca.explained_variance_ratio_))"
   ]
  },
  {
   "cell_type": "code",
   "execution_count": 35,
   "metadata": {},
   "outputs": [
    {
     "data": {
      "text/plain": [
       "(256, 256, 256, 7)"
      ]
     },
     "execution_count": 35,
     "metadata": {},
     "output_type": "execute_result"
    }
   ],
   "source": [
    "pca_inv = pca.inverse_transform(pX)\n",
    "X_trans = np.reshape(pca_inv,(256, 256, 256, 7))\n",
    "X_trans.shape"
   ]
  },
  {
   "cell_type": "code",
   "execution_count": 36,
   "metadata": {},
   "outputs": [
    {
     "data": {
      "application/vnd.jupyter.widget-view+json": {
       "model_id": "430ce1431ef64a85b1f4c0d51432871c",
       "version_major": 2,
       "version_minor": 0
      },
      "text/plain": [
       "interactive(children=(IntSlider(value=127, description='z', max=255), Output()), _dom_classes=('widget-interac…"
      ]
     },
     "metadata": {},
     "output_type": "display_data"
    },
    {
     "data": {
      "text/plain": [
       "<function __main__.display_slice(z)>"
      ]
     },
     "execution_count": 36,
     "metadata": {},
     "output_type": "execute_result"
    }
   ],
   "source": [
    "# side by side comparison of original images and reconstructed\n",
    "def display_slice(z):\n",
    "    \n",
    "    #original\n",
    "    plt.figure(figsize=(16,12))\n",
    "    for i in range(7):\n",
    "        plt.subplot(3,4,i+1)\n",
    "        image = abs(MRI[:,:,z,i])\n",
    "        plt.imshow(image,cmap=\"gray\")\n",
    "        plt.axis('off')\n",
    "    plt.tight_layout()  \n",
    "    plt.suptitle('Original', y=1, size=20)\n",
    "    \n",
    "    #reconstruct images using reduced dataset\n",
    "    plt.figure(figsize=(16,12))\n",
    "    for i in range(7):\n",
    "        plt.subplot(3,4,i+1)        \n",
    "        image = abs(X_trans[:,:,z,i])\n",
    "        plt.imshow(image,cmap=\"gray\")\n",
    "        plt.axis('off')\n",
    "    plt.tight_layout()\n",
    "    plt.suptitle('Reconstructed', y=1, size=20)\n",
    "    \n",
    "   \n",
    "interact(display_slice, z=(0, 255))"
   ]
  },
  {
   "cell_type": "markdown",
   "metadata": {},
   "source": [
    "Testing 4 Component Analysis"
   ]
  },
  {
   "cell_type": "code",
   "execution_count": 37,
   "metadata": {},
   "outputs": [],
   "source": [
    "pca4 = PCA(n_components=4)"
   ]
  },
  {
   "cell_type": "code",
   "execution_count": 38,
   "metadata": {},
   "outputs": [],
   "source": [
    "p4X = pca4.fit_transform(X)"
   ]
  },
  {
   "cell_type": "code",
   "execution_count": 39,
   "metadata": {},
   "outputs": [
    {
     "name": "stdout",
     "output_type": "stream",
     "text": [
      "Original shape:  (256, 458752)\n",
      "Transformed shape:  (256, 4)\n"
     ]
    }
   ],
   "source": [
    "print(\"Original shape: \", X.shape)\n",
    "print(\"Transformed shape: \", p4X.shape)"
   ]
  },
  {
   "cell_type": "code",
   "execution_count": 40,
   "metadata": {},
   "outputs": [
    {
     "data": {
      "text/html": [
       "<div>\n",
       "<style scoped>\n",
       "    .dataframe tbody tr th:only-of-type {\n",
       "        vertical-align: middle;\n",
       "    }\n",
       "\n",
       "    .dataframe tbody tr th {\n",
       "        vertical-align: top;\n",
       "    }\n",
       "\n",
       "    .dataframe thead th {\n",
       "        text-align: right;\n",
       "    }\n",
       "</style>\n",
       "<table border=\"1\" class=\"dataframe\">\n",
       "  <thead>\n",
       "    <tr style=\"text-align: right;\">\n",
       "      <th></th>\n",
       "      <th>Component 1</th>\n",
       "      <th>Component 2</th>\n",
       "      <th>Component 3</th>\n",
       "      <th>Component 4</th>\n",
       "    </tr>\n",
       "  </thead>\n",
       "  <tbody>\n",
       "    <tr>\n",
       "      <th>0</th>\n",
       "      <td>154758.004611</td>\n",
       "      <td>24734.984504</td>\n",
       "      <td>21830.549650</td>\n",
       "      <td>117441.110938</td>\n",
       "    </tr>\n",
       "    <tr>\n",
       "      <th>1</th>\n",
       "      <td>143228.382665</td>\n",
       "      <td>21903.563762</td>\n",
       "      <td>27460.587903</td>\n",
       "      <td>124012.801190</td>\n",
       "    </tr>\n",
       "    <tr>\n",
       "      <th>2</th>\n",
       "      <td>139746.081278</td>\n",
       "      <td>27710.469629</td>\n",
       "      <td>29190.598147</td>\n",
       "      <td>118690.389610</td>\n",
       "    </tr>\n",
       "    <tr>\n",
       "      <th>3</th>\n",
       "      <td>137774.999612</td>\n",
       "      <td>40782.799897</td>\n",
       "      <td>33588.724444</td>\n",
       "      <td>106045.064927</td>\n",
       "    </tr>\n",
       "    <tr>\n",
       "      <th>4</th>\n",
       "      <td>131886.307828</td>\n",
       "      <td>50025.027750</td>\n",
       "      <td>36812.491287</td>\n",
       "      <td>98416.289645</td>\n",
       "    </tr>\n",
       "    <tr>\n",
       "      <th>5</th>\n",
       "      <td>123492.339098</td>\n",
       "      <td>58283.411811</td>\n",
       "      <td>39998.712019</td>\n",
       "      <td>91810.312600</td>\n",
       "    </tr>\n",
       "    <tr>\n",
       "      <th>6</th>\n",
       "      <td>113975.221047</td>\n",
       "      <td>64580.681385</td>\n",
       "      <td>40095.518298</td>\n",
       "      <td>84625.250697</td>\n",
       "    </tr>\n",
       "    <tr>\n",
       "      <th>7</th>\n",
       "      <td>106195.225676</td>\n",
       "      <td>69147.404569</td>\n",
       "      <td>35847.581195</td>\n",
       "      <td>78114.442081</td>\n",
       "    </tr>\n",
       "    <tr>\n",
       "      <th>8</th>\n",
       "      <td>101582.325123</td>\n",
       "      <td>72473.914677</td>\n",
       "      <td>33544.468103</td>\n",
       "      <td>74886.998036</td>\n",
       "    </tr>\n",
       "    <tr>\n",
       "      <th>9</th>\n",
       "      <td>100438.910615</td>\n",
       "      <td>76736.947793</td>\n",
       "      <td>33248.315983</td>\n",
       "      <td>73820.630976</td>\n",
       "    </tr>\n",
       "    <tr>\n",
       "      <th>10</th>\n",
       "      <td>97921.458406</td>\n",
       "      <td>75993.487708</td>\n",
       "      <td>30370.687923</td>\n",
       "      <td>76189.956218</td>\n",
       "    </tr>\n",
       "    <tr>\n",
       "      <th>11</th>\n",
       "      <td>96049.042625</td>\n",
       "      <td>75685.983912</td>\n",
       "      <td>29102.396266</td>\n",
       "      <td>74010.698381</td>\n",
       "    </tr>\n",
       "    <tr>\n",
       "      <th>12</th>\n",
       "      <td>93307.880697</td>\n",
       "      <td>78329.133703</td>\n",
       "      <td>28400.989965</td>\n",
       "      <td>74414.761327</td>\n",
       "    </tr>\n",
       "    <tr>\n",
       "      <th>13</th>\n",
       "      <td>88763.037825</td>\n",
       "      <td>81336.525611</td>\n",
       "      <td>27304.202051</td>\n",
       "      <td>74852.567536</td>\n",
       "    </tr>\n",
       "    <tr>\n",
       "      <th>14</th>\n",
       "      <td>84656.028335</td>\n",
       "      <td>83457.794539</td>\n",
       "      <td>26272.612168</td>\n",
       "      <td>75313.402664</td>\n",
       "    </tr>\n",
       "    <tr>\n",
       "      <th>15</th>\n",
       "      <td>81087.679367</td>\n",
       "      <td>84160.481109</td>\n",
       "      <td>24872.674407</td>\n",
       "      <td>74719.462117</td>\n",
       "    </tr>\n",
       "    <tr>\n",
       "      <th>16</th>\n",
       "      <td>76703.729005</td>\n",
       "      <td>84317.455393</td>\n",
       "      <td>23698.280567</td>\n",
       "      <td>73396.590178</td>\n",
       "    </tr>\n",
       "    <tr>\n",
       "      <th>17</th>\n",
       "      <td>74723.948918</td>\n",
       "      <td>86996.458533</td>\n",
       "      <td>22374.926509</td>\n",
       "      <td>75116.586867</td>\n",
       "    </tr>\n",
       "    <tr>\n",
       "      <th>18</th>\n",
       "      <td>69620.611577</td>\n",
       "      <td>88662.749783</td>\n",
       "      <td>19475.254663</td>\n",
       "      <td>74068.031325</td>\n",
       "    </tr>\n",
       "    <tr>\n",
       "      <th>19</th>\n",
       "      <td>65478.758477</td>\n",
       "      <td>87919.972935</td>\n",
       "      <td>18112.282279</td>\n",
       "      <td>75624.397470</td>\n",
       "    </tr>\n",
       "    <tr>\n",
       "      <th>20</th>\n",
       "      <td>61533.718277</td>\n",
       "      <td>88258.998058</td>\n",
       "      <td>14959.217027</td>\n",
       "      <td>72944.576816</td>\n",
       "    </tr>\n",
       "    <tr>\n",
       "      <th>21</th>\n",
       "      <td>56827.096875</td>\n",
       "      <td>90751.930378</td>\n",
       "      <td>13693.637151</td>\n",
       "      <td>71105.475500</td>\n",
       "    </tr>\n",
       "    <tr>\n",
       "      <th>22</th>\n",
       "      <td>53304.160757</td>\n",
       "      <td>92782.111076</td>\n",
       "      <td>9977.288468</td>\n",
       "      <td>72394.721053</td>\n",
       "    </tr>\n",
       "    <tr>\n",
       "      <th>23</th>\n",
       "      <td>50731.815884</td>\n",
       "      <td>92229.392414</td>\n",
       "      <td>6768.170468</td>\n",
       "      <td>74492.119861</td>\n",
       "    </tr>\n",
       "    <tr>\n",
       "      <th>24</th>\n",
       "      <td>47487.681701</td>\n",
       "      <td>94765.366517</td>\n",
       "      <td>3969.191727</td>\n",
       "      <td>75655.815854</td>\n",
       "    </tr>\n",
       "    <tr>\n",
       "      <th>25</th>\n",
       "      <td>45585.621776</td>\n",
       "      <td>95736.154436</td>\n",
       "      <td>4907.527208</td>\n",
       "      <td>75036.277455</td>\n",
       "    </tr>\n",
       "    <tr>\n",
       "      <th>26</th>\n",
       "      <td>43106.967824</td>\n",
       "      <td>96687.835186</td>\n",
       "      <td>5700.120664</td>\n",
       "      <td>72813.474409</td>\n",
       "    </tr>\n",
       "    <tr>\n",
       "      <th>27</th>\n",
       "      <td>39438.775001</td>\n",
       "      <td>100529.891243</td>\n",
       "      <td>2563.128154</td>\n",
       "      <td>70185.417088</td>\n",
       "    </tr>\n",
       "    <tr>\n",
       "      <th>28</th>\n",
       "      <td>34901.545247</td>\n",
       "      <td>99932.265735</td>\n",
       "      <td>1967.514073</td>\n",
       "      <td>67946.507555</td>\n",
       "    </tr>\n",
       "    <tr>\n",
       "      <th>29</th>\n",
       "      <td>30699.766278</td>\n",
       "      <td>99231.711007</td>\n",
       "      <td>1313.601102</td>\n",
       "      <td>66823.644745</td>\n",
       "    </tr>\n",
       "    <tr>\n",
       "      <th>...</th>\n",
       "      <td>...</td>\n",
       "      <td>...</td>\n",
       "      <td>...</td>\n",
       "      <td>...</td>\n",
       "    </tr>\n",
       "    <tr>\n",
       "      <th>226</th>\n",
       "      <td>195521.720092</td>\n",
       "      <td>-78489.539074</td>\n",
       "      <td>-39403.140321</td>\n",
       "      <td>-27805.252969</td>\n",
       "    </tr>\n",
       "    <tr>\n",
       "      <th>227</th>\n",
       "      <td>193295.324116</td>\n",
       "      <td>-78508.007398</td>\n",
       "      <td>-39525.803253</td>\n",
       "      <td>-26589.669150</td>\n",
       "    </tr>\n",
       "    <tr>\n",
       "      <th>228</th>\n",
       "      <td>194577.590279</td>\n",
       "      <td>-78673.748228</td>\n",
       "      <td>-39313.399439</td>\n",
       "      <td>-28902.826575</td>\n",
       "    </tr>\n",
       "    <tr>\n",
       "      <th>229</th>\n",
       "      <td>193859.444837</td>\n",
       "      <td>-83281.985707</td>\n",
       "      <td>-41637.178459</td>\n",
       "      <td>-28991.006742</td>\n",
       "    </tr>\n",
       "    <tr>\n",
       "      <th>230</th>\n",
       "      <td>195220.468688</td>\n",
       "      <td>-83950.432928</td>\n",
       "      <td>-40277.203940</td>\n",
       "      <td>-29029.785772</td>\n",
       "    </tr>\n",
       "    <tr>\n",
       "      <th>231</th>\n",
       "      <td>194230.178483</td>\n",
       "      <td>-84246.379705</td>\n",
       "      <td>-42153.170191</td>\n",
       "      <td>-26866.057340</td>\n",
       "    </tr>\n",
       "    <tr>\n",
       "      <th>232</th>\n",
       "      <td>193849.469627</td>\n",
       "      <td>-79517.014046</td>\n",
       "      <td>-45575.834972</td>\n",
       "      <td>-25867.584249</td>\n",
       "    </tr>\n",
       "    <tr>\n",
       "      <th>233</th>\n",
       "      <td>194824.938833</td>\n",
       "      <td>-83487.095157</td>\n",
       "      <td>-40817.137535</td>\n",
       "      <td>-24554.455957</td>\n",
       "    </tr>\n",
       "    <tr>\n",
       "      <th>234</th>\n",
       "      <td>194546.076809</td>\n",
       "      <td>-86843.155283</td>\n",
       "      <td>-43071.342996</td>\n",
       "      <td>-25404.625924</td>\n",
       "    </tr>\n",
       "    <tr>\n",
       "      <th>235</th>\n",
       "      <td>194775.670563</td>\n",
       "      <td>-87714.968096</td>\n",
       "      <td>-42567.956211</td>\n",
       "      <td>-22532.094411</td>\n",
       "    </tr>\n",
       "    <tr>\n",
       "      <th>236</th>\n",
       "      <td>192586.341186</td>\n",
       "      <td>-82274.218851</td>\n",
       "      <td>-40969.135125</td>\n",
       "      <td>-20632.949240</td>\n",
       "    </tr>\n",
       "    <tr>\n",
       "      <th>237</th>\n",
       "      <td>193136.780852</td>\n",
       "      <td>-80870.557082</td>\n",
       "      <td>-43890.130104</td>\n",
       "      <td>-21035.343294</td>\n",
       "    </tr>\n",
       "    <tr>\n",
       "      <th>238</th>\n",
       "      <td>194036.911762</td>\n",
       "      <td>-85070.528458</td>\n",
       "      <td>-41900.014876</td>\n",
       "      <td>-24059.825167</td>\n",
       "    </tr>\n",
       "    <tr>\n",
       "      <th>239</th>\n",
       "      <td>194307.109915</td>\n",
       "      <td>-83564.417343</td>\n",
       "      <td>-44860.489222</td>\n",
       "      <td>-18941.248766</td>\n",
       "    </tr>\n",
       "    <tr>\n",
       "      <th>240</th>\n",
       "      <td>194618.541853</td>\n",
       "      <td>-81369.646266</td>\n",
       "      <td>-43296.372292</td>\n",
       "      <td>-15993.333319</td>\n",
       "    </tr>\n",
       "    <tr>\n",
       "      <th>241</th>\n",
       "      <td>193803.711219</td>\n",
       "      <td>-82123.307338</td>\n",
       "      <td>-44772.653134</td>\n",
       "      <td>-15792.522902</td>\n",
       "    </tr>\n",
       "    <tr>\n",
       "      <th>242</th>\n",
       "      <td>194656.947868</td>\n",
       "      <td>-79303.897432</td>\n",
       "      <td>-40797.762170</td>\n",
       "      <td>-12334.940212</td>\n",
       "    </tr>\n",
       "    <tr>\n",
       "      <th>243</th>\n",
       "      <td>193606.159507</td>\n",
       "      <td>-77745.093615</td>\n",
       "      <td>-41265.133040</td>\n",
       "      <td>-13746.399675</td>\n",
       "    </tr>\n",
       "    <tr>\n",
       "      <th>244</th>\n",
       "      <td>192418.746837</td>\n",
       "      <td>-74701.741668</td>\n",
       "      <td>-39892.934385</td>\n",
       "      <td>-10417.219802</td>\n",
       "    </tr>\n",
       "    <tr>\n",
       "      <th>245</th>\n",
       "      <td>193065.356227</td>\n",
       "      <td>-76441.977344</td>\n",
       "      <td>-40243.948599</td>\n",
       "      <td>-9736.601285</td>\n",
       "    </tr>\n",
       "    <tr>\n",
       "      <th>246</th>\n",
       "      <td>191671.576862</td>\n",
       "      <td>-76067.069304</td>\n",
       "      <td>-38398.959638</td>\n",
       "      <td>-5157.108117</td>\n",
       "    </tr>\n",
       "    <tr>\n",
       "      <th>247</th>\n",
       "      <td>194201.761493</td>\n",
       "      <td>-74919.341919</td>\n",
       "      <td>-37041.499575</td>\n",
       "      <td>-4385.306083</td>\n",
       "    </tr>\n",
       "    <tr>\n",
       "      <th>248</th>\n",
       "      <td>194595.959881</td>\n",
       "      <td>-74628.864116</td>\n",
       "      <td>-32388.693191</td>\n",
       "      <td>-3611.944995</td>\n",
       "    </tr>\n",
       "    <tr>\n",
       "      <th>249</th>\n",
       "      <td>199911.361448</td>\n",
       "      <td>-78591.485610</td>\n",
       "      <td>-31573.042209</td>\n",
       "      <td>3651.606342</td>\n",
       "    </tr>\n",
       "    <tr>\n",
       "      <th>250</th>\n",
       "      <td>202588.569159</td>\n",
       "      <td>-78085.679907</td>\n",
       "      <td>-30458.377731</td>\n",
       "      <td>17438.170316</td>\n",
       "    </tr>\n",
       "    <tr>\n",
       "      <th>251</th>\n",
       "      <td>207873.127194</td>\n",
       "      <td>-81992.665944</td>\n",
       "      <td>-30120.163896</td>\n",
       "      <td>29501.551210</td>\n",
       "    </tr>\n",
       "    <tr>\n",
       "      <th>252</th>\n",
       "      <td>209361.290714</td>\n",
       "      <td>-85889.297965</td>\n",
       "      <td>-32159.791663</td>\n",
       "      <td>42468.727982</td>\n",
       "    </tr>\n",
       "    <tr>\n",
       "      <th>253</th>\n",
       "      <td>212489.024043</td>\n",
       "      <td>-87788.053832</td>\n",
       "      <td>-30669.044777</td>\n",
       "      <td>62408.069158</td>\n",
       "    </tr>\n",
       "    <tr>\n",
       "      <th>254</th>\n",
       "      <td>213215.377760</td>\n",
       "      <td>-81371.692456</td>\n",
       "      <td>-28200.473629</td>\n",
       "      <td>72592.952698</td>\n",
       "    </tr>\n",
       "    <tr>\n",
       "      <th>255</th>\n",
       "      <td>139812.091887</td>\n",
       "      <td>67822.286980</td>\n",
       "      <td>-36358.614628</td>\n",
       "      <td>132884.748008</td>\n",
       "    </tr>\n",
       "  </tbody>\n",
       "</table>\n",
       "<p>256 rows × 4 columns</p>\n",
       "</div>"
      ],
      "text/plain": [
       "       Component 1    Component 2   Component 3    Component 4\n",
       "0    154758.004611   24734.984504  21830.549650  117441.110938\n",
       "1    143228.382665   21903.563762  27460.587903  124012.801190\n",
       "2    139746.081278   27710.469629  29190.598147  118690.389610\n",
       "3    137774.999612   40782.799897  33588.724444  106045.064927\n",
       "4    131886.307828   50025.027750  36812.491287   98416.289645\n",
       "5    123492.339098   58283.411811  39998.712019   91810.312600\n",
       "6    113975.221047   64580.681385  40095.518298   84625.250697\n",
       "7    106195.225676   69147.404569  35847.581195   78114.442081\n",
       "8    101582.325123   72473.914677  33544.468103   74886.998036\n",
       "9    100438.910615   76736.947793  33248.315983   73820.630976\n",
       "10    97921.458406   75993.487708  30370.687923   76189.956218\n",
       "11    96049.042625   75685.983912  29102.396266   74010.698381\n",
       "12    93307.880697   78329.133703  28400.989965   74414.761327\n",
       "13    88763.037825   81336.525611  27304.202051   74852.567536\n",
       "14    84656.028335   83457.794539  26272.612168   75313.402664\n",
       "15    81087.679367   84160.481109  24872.674407   74719.462117\n",
       "16    76703.729005   84317.455393  23698.280567   73396.590178\n",
       "17    74723.948918   86996.458533  22374.926509   75116.586867\n",
       "18    69620.611577   88662.749783  19475.254663   74068.031325\n",
       "19    65478.758477   87919.972935  18112.282279   75624.397470\n",
       "20    61533.718277   88258.998058  14959.217027   72944.576816\n",
       "21    56827.096875   90751.930378  13693.637151   71105.475500\n",
       "22    53304.160757   92782.111076   9977.288468   72394.721053\n",
       "23    50731.815884   92229.392414   6768.170468   74492.119861\n",
       "24    47487.681701   94765.366517   3969.191727   75655.815854\n",
       "25    45585.621776   95736.154436   4907.527208   75036.277455\n",
       "26    43106.967824   96687.835186   5700.120664   72813.474409\n",
       "27    39438.775001  100529.891243   2563.128154   70185.417088\n",
       "28    34901.545247   99932.265735   1967.514073   67946.507555\n",
       "29    30699.766278   99231.711007   1313.601102   66823.644745\n",
       "..             ...            ...           ...            ...\n",
       "226  195521.720092  -78489.539074 -39403.140321  -27805.252969\n",
       "227  193295.324116  -78508.007398 -39525.803253  -26589.669150\n",
       "228  194577.590279  -78673.748228 -39313.399439  -28902.826575\n",
       "229  193859.444837  -83281.985707 -41637.178459  -28991.006742\n",
       "230  195220.468688  -83950.432928 -40277.203940  -29029.785772\n",
       "231  194230.178483  -84246.379705 -42153.170191  -26866.057340\n",
       "232  193849.469627  -79517.014046 -45575.834972  -25867.584249\n",
       "233  194824.938833  -83487.095157 -40817.137535  -24554.455957\n",
       "234  194546.076809  -86843.155283 -43071.342996  -25404.625924\n",
       "235  194775.670563  -87714.968096 -42567.956211  -22532.094411\n",
       "236  192586.341186  -82274.218851 -40969.135125  -20632.949240\n",
       "237  193136.780852  -80870.557082 -43890.130104  -21035.343294\n",
       "238  194036.911762  -85070.528458 -41900.014876  -24059.825167\n",
       "239  194307.109915  -83564.417343 -44860.489222  -18941.248766\n",
       "240  194618.541853  -81369.646266 -43296.372292  -15993.333319\n",
       "241  193803.711219  -82123.307338 -44772.653134  -15792.522902\n",
       "242  194656.947868  -79303.897432 -40797.762170  -12334.940212\n",
       "243  193606.159507  -77745.093615 -41265.133040  -13746.399675\n",
       "244  192418.746837  -74701.741668 -39892.934385  -10417.219802\n",
       "245  193065.356227  -76441.977344 -40243.948599   -9736.601285\n",
       "246  191671.576862  -76067.069304 -38398.959638   -5157.108117\n",
       "247  194201.761493  -74919.341919 -37041.499575   -4385.306083\n",
       "248  194595.959881  -74628.864116 -32388.693191   -3611.944995\n",
       "249  199911.361448  -78591.485610 -31573.042209    3651.606342\n",
       "250  202588.569159  -78085.679907 -30458.377731   17438.170316\n",
       "251  207873.127194  -81992.665944 -30120.163896   29501.551210\n",
       "252  209361.290714  -85889.297965 -32159.791663   42468.727982\n",
       "253  212489.024043  -87788.053832 -30669.044777   62408.069158\n",
       "254  213215.377760  -81371.692456 -28200.473629   72592.952698\n",
       "255  139812.091887   67822.286980 -36358.614628  132884.748008\n",
       "\n",
       "[256 rows x 4 columns]"
      ]
     },
     "execution_count": 40,
     "metadata": {},
     "output_type": "execute_result"
    }
   ],
   "source": [
    "df_pca4 = pd.DataFrame(p4X, columns = ['Component 1', 'Component 2', 'Component 3', 'Component 4'])\n",
    "df_pca4"
   ]
  },
  {
   "cell_type": "code",
   "execution_count": 41,
   "metadata": {},
   "outputs": [
    {
     "name": "stdout",
     "output_type": "stream",
     "text": [
      "0.14944307876913354\n"
     ]
    }
   ],
   "source": [
    "# Only retains 14.9% variance with 4 components\n",
    "print(np.sum(pca4.explained_variance_ratio_))"
   ]
  },
  {
   "cell_type": "code",
   "execution_count": 42,
   "metadata": {},
   "outputs": [
    {
     "data": {
      "text/plain": [
       "(256, 256, 256, 7)"
      ]
     },
     "execution_count": 42,
     "metadata": {},
     "output_type": "execute_result"
    }
   ],
   "source": [
    "pca4_inv = pca4.inverse_transform(p4X)\n",
    "X4_trans = np.reshape(pca4_inv,(256, 256, 256, 7))\n",
    "X4_trans.shape"
   ]
  },
  {
   "cell_type": "code",
   "execution_count": 43,
   "metadata": {},
   "outputs": [
    {
     "data": {
      "application/vnd.jupyter.widget-view+json": {
       "model_id": "c6a836efa0f641c4aeceb44694600923",
       "version_major": 2,
       "version_minor": 0
      },
      "text/plain": [
       "interactive(children=(IntSlider(value=127, description='z', max=255), Output()), _dom_classes=('widget-interac…"
      ]
     },
     "metadata": {},
     "output_type": "display_data"
    },
    {
     "data": {
      "text/plain": [
       "<function __main__.display_slice(z)>"
      ]
     },
     "execution_count": 43,
     "metadata": {},
     "output_type": "execute_result"
    }
   ],
   "source": [
    "# side by side comparison of original images and reconstructed\n",
    "def display_slice(z):\n",
    "    \n",
    "    #original\n",
    "    plt.figure(figsize=(16,12))\n",
    "    for i in range(7):\n",
    "        plt.subplot(3,4,i+1)\n",
    "        image = abs(MRI[:,:,z,i])\n",
    "        plt.imshow(image,cmap=\"gray\")\n",
    "        plt.axis('off')\n",
    "    plt.tight_layout()  \n",
    "    plt.suptitle('Original', y=1, size=20)\n",
    "    \n",
    "    #reconstruct images using reduced dataset\n",
    "    plt.figure(figsize=(16,12))\n",
    "    for i in range(7):\n",
    "        plt.subplot(3,4,i+1)        \n",
    "        image = abs(X4_trans[:,:,z,i])\n",
    "        plt.imshow(image,cmap=\"gray\")\n",
    "        plt.axis('off')\n",
    "    plt.tight_layout()    \n",
    "    plt.suptitle('Reconstructed', y=1, size=20)\n",
    "    \n",
    "   \n",
    "interact(display_slice, z=(0, 255))"
   ]
  },
  {
   "cell_type": "markdown",
   "metadata": {},
   "source": [
    "How many components are needed to retain 65% variance?"
   ]
  },
  {
   "cell_type": "code",
   "execution_count": 44,
   "metadata": {},
   "outputs": [],
   "source": [
    "pca_n = PCA(0.65)"
   ]
  },
  {
   "cell_type": "code",
   "execution_count": 45,
   "metadata": {},
   "outputs": [],
   "source": [
    "pnX = pca_n.fit_transform(X)"
   ]
  },
  {
   "cell_type": "code",
   "execution_count": 46,
   "metadata": {},
   "outputs": [
    {
     "name": "stdout",
     "output_type": "stream",
     "text": [
      "Original shape:  (256, 458752)\n",
      "Transformed shape:  (256, 91)\n"
     ]
    }
   ],
   "source": [
    "print(\"Original shape: \", X.shape)\n",
    "print(\"Transformed shape: \", pnX.shape)"
   ]
  },
  {
   "cell_type": "code",
   "execution_count": 47,
   "metadata": {},
   "outputs": [
    {
     "name": "stdout",
     "output_type": "stream",
     "text": [
      "0.6502583462017033\n"
     ]
    }
   ],
   "source": [
    "print(np.sum(pca_n.explained_variance_ratio_))"
   ]
  },
  {
   "cell_type": "code",
   "execution_count": 48,
   "metadata": {},
   "outputs": [
    {
     "data": {
      "text/plain": [
       "(256, 256, 256, 7)"
      ]
     },
     "execution_count": 48,
     "metadata": {},
     "output_type": "execute_result"
    }
   ],
   "source": [
    "pca91_inv = pca_n.inverse_transform(pnX)\n",
    "X91_trans = np.reshape(pca91_inv,(256, 256, 256, 7))\n",
    "X91_trans.shape"
   ]
  },
  {
   "cell_type": "code",
   "execution_count": 49,
   "metadata": {},
   "outputs": [
    {
     "data": {
      "application/vnd.jupyter.widget-view+json": {
       "model_id": "31bea6abded34866bfe19ca264e2c3f4",
       "version_major": 2,
       "version_minor": 0
      },
      "text/plain": [
       "interactive(children=(IntSlider(value=127, description='z', max=255), Output()), _dom_classes=('widget-interac…"
      ]
     },
     "metadata": {},
     "output_type": "display_data"
    },
    {
     "data": {
      "text/plain": [
       "<function __main__.display_slice(z)>"
      ]
     },
     "execution_count": 49,
     "metadata": {},
     "output_type": "execute_result"
    }
   ],
   "source": [
    "# side by side comparison of original images and reconstructed\n",
    "def display_slice(z):\n",
    "    \n",
    "    #original\n",
    "    plt.figure(figsize=(16,12))\n",
    "    for i in range(7):\n",
    "        plt.subplot(3,4,i+1)\n",
    "        image = abs(MRI[:,:,z,i])\n",
    "        plt.imshow(image,cmap=\"gray\")\n",
    "        plt.axis('off')\n",
    "    plt.tight_layout()  \n",
    "    plt.suptitle('Original', y=1, size=20)\n",
    "    \n",
    "    #reconstruct images using reduced dataset\n",
    "    plt.figure(figsize=(16,12))\n",
    "    for i in range(7):\n",
    "        plt.subplot(3,4,i+1)        \n",
    "        image = abs(X91_trans[:,:,z,i])\n",
    "        plt.imshow(image,cmap=\"gray\")\n",
    "        plt.axis('off')\n",
    "    plt.tight_layout()  \n",
    "    plt.suptitle('Reconstructed', y=1, size=20)\n",
    "    \n",
    "   \n",
    "interact(display_slice, z=(0, 255))"
   ]
  },
  {
   "cell_type": "code",
   "execution_count": 50,
   "metadata": {},
   "outputs": [
    {
     "data": {
      "image/png": "[encoded data removed]",
      "text/plain": [
       "<Figure size 432x288 with 1 Axes>"
      ]
     },
     "metadata": {
      "needs_background": "light"
     },
     "output_type": "display_data"
    }
   ],
   "source": [
    "pca_vis = PCA().fit(X)\n",
    "plt.plot(np.cumsum(pca_vis.explained_variance_ratio_))\n",
    "plt.xlabel('number of components')\n",
    "plt.ylabel('cumulative explained variance');"
   ]
  }
 ],
 "metadata": {
  "kernelspec": {
   "display_name": "Python 3",
   "language": "python",
   "name": "python3"
  },
  "language_info": {
   "codemirror_mode": {
    "name": "ipython",
    "version": 3
   },
   "file_extension": ".py",
   "mimetype": "text/x-python",
   "name": "python",
   "nbconvert_exporter": "python",
   "pygments_lexer": "ipython3",
   "version": "3.7.1"
  }
 },
 "nbformat": 4,
 "nbformat_minor": 2
}
